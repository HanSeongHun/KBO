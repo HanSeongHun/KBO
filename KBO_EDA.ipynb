{
  "nbformat": 4,
  "nbformat_minor": 0,
  "metadata": {
    "colab": {
      "name": "KBO_ver1.ipynb",
      "provenance": [],
      "collapsed_sections": [],
      "toc_visible": true,
      "include_colab_link": true
    },
    "kernelspec": {
      "name": "python3",
      "display_name": "Python 3"
    },
    "language_info": {
      "name": "python"
    }
  },
  "cells": [
    {
      "cell_type": "markdown",
      "metadata": {
        "id": "view-in-github",
        "colab_type": "text"
      },
      "source": [
        "<a href=\"https://colab.research.google.com/github/HanSeongHun/KBO/blob/main/KBO_EDA.ipynb\" target=\"_parent\"><img src=\"https://colab.research.google.com/assets/colab-badge.svg\" alt=\"Open In Colab\"/></a>"
      ]
    },
    {
      "cell_type": "code",
      "metadata": {
        "colab": {
          "base_uri": "https://localhost:8080/"
        },
        "id": "iytOLrg_qGBA",
        "outputId": "2b5e0231-02bc-441f-a154-9d818a3be7d0"
      },
      "source": [
        "!sudo apt-get install -y fonts-nanum\n",
        "!sudo fc-cache -fv\n",
        "!rm ~/.cache/matplotlib -rf"
      ],
      "execution_count": null,
      "outputs": [
        {
          "output_type": "stream",
          "text": [
            "Reading package lists... Done\n",
            "Building dependency tree       \n",
            "Reading state information... Done\n",
            "fonts-nanum is already the newest version (20170925-1).\n",
            "0 upgraded, 0 newly installed, 0 to remove and 30 not upgraded.\n",
            "/usr/share/fonts: caching, new cache contents: 0 fonts, 1 dirs\n",
            "/usr/share/fonts/truetype: caching, new cache contents: 0 fonts, 3 dirs\n",
            "/usr/share/fonts/truetype/humor-sans: caching, new cache contents: 1 fonts, 0 dirs\n",
            "/usr/share/fonts/truetype/liberation: caching, new cache contents: 16 fonts, 0 dirs\n",
            "/usr/share/fonts/truetype/nanum: caching, new cache contents: 10 fonts, 0 dirs\n",
            "/usr/local/share/fonts: caching, new cache contents: 0 fonts, 0 dirs\n",
            "/root/.local/share/fonts: skipping, no such directory\n",
            "/root/.fonts: skipping, no such directory\n",
            "/var/cache/fontconfig: cleaning cache directory\n",
            "/root/.cache/fontconfig: not cleaning non-existent cache directory\n",
            "/root/.fontconfig: not cleaning non-existent cache directory\n",
            "fc-cache: succeeded\n"
          ],
          "name": "stdout"
        }
      ]
    },
    {
      "cell_type": "code",
      "metadata": {
        "id": "6rpdG4ktCa50"
      },
      "source": [
        "from matplotlib import font_manager, rc"
      ],
      "execution_count": null,
      "outputs": []
    },
    {
      "cell_type": "code",
      "metadata": {
        "id": "UsmswPV-Cick"
      },
      "source": [
        "import matplotlib\n",
        "import seaborn as sns\n",
        "import pandas as pd\n",
        "import numpy as np\n",
        "import platform\n",
        "import matplotlib.pyplot as plt"
      ],
      "execution_count": null,
      "outputs": []
    },
    {
      "cell_type": "code",
      "metadata": {
        "id": "uHezNTifCxct"
      },
      "source": [
        "# if platform.system() == 'Windows' :\n",
        "#   #윈도우인 경우 맑은 고딕 폰트 이용\n",
        "#   font_name = font_manager.FontProperties(fname = \"c:/Windows/Fonts/malgun.ttf\").get_name()\n",
        "\n",
        "# else:\n",
        "#   #맥인 경우\n",
        "#   plt.rc('font', family = 'AppleGothic')\n",
        "\n",
        "# #그래프에서 마이너스 기호가 표시되게 하는 설정\n",
        "# matplotlib.rcParams['axes.unicode_minus'] = False"
      ],
      "execution_count": null,
      "outputs": []
    },
    {
      "cell_type": "code",
      "metadata": {
        "id": "CBsC-VGoqm4B"
      },
      "source": [
        "plt.rc('font', family='NanumBarunGothic') \n",
        "matplotlib.rcParams['axes.unicode_minus'] = False"
      ],
      "execution_count": null,
      "outputs": []
    },
    {
      "cell_type": "code",
      "metadata": {
        "id": "D8gM9k4-Jcnl"
      },
      "source": [
        "#프리시즌 데이터 로드\n",
        "preseason_df = pd.read_csv('/content/drive/MyDrive/Data_study/KBO_data/Pre_Season_Batter.csv')"
      ],
      "execution_count": null,
      "outputs": []
    },
    {
      "cell_type": "code",
      "metadata": {
        "colab": {
          "base_uri": "https://localhost:8080/"
        },
        "id": "8rctrz8FWfyG",
        "outputId": "90e9a4d3-6a75-4a13-bc98-c1b25c683197"
      },
      "source": [
        "from google.colab import drive\n",
        "drive.mount('/content/drive')"
      ],
      "execution_count": null,
      "outputs": [
        {
          "output_type": "stream",
          "text": [
            "Drive already mounted at /content/drive; to attempt to forcibly remount, call drive.mount(\"/content/drive\", force_remount=True).\n"
          ],
          "name": "stdout"
        }
      ]
    },
    {
      "cell_type": "code",
      "metadata": {
        "id": "wwIrgwakDmKH"
      },
      "source": [
        "# 정규시즌 데이터 로드\n",
        "regular_season_df = pd.read_csv('/content/drive/MyDrive/Data_study/KBO_data/Regular_Season_Batter.csv')\n"
      ],
      "execution_count": null,
      "outputs": []
    },
    {
      "cell_type": "code",
      "metadata": {
        "id": "YtMMVpy7Gmgq",
        "colab": {
          "base_uri": "https://localhost:8080/"
        },
        "outputId": "70809cb0-2116-4325-9f9b-d8479f68026b"
      },
      "source": [
        "print(preseason_df.shape)"
      ],
      "execution_count": null,
      "outputs": [
        {
          "output_type": "stream",
          "text": [
            "(1393, 29)\n"
          ],
          "name": "stdout"
        }
      ]
    },
    {
      "cell_type": "code",
      "metadata": {
        "id": "8xboEA0XKINb",
        "colab": {
          "base_uri": "https://localhost:8080/",
          "height": 581
        },
        "outputId": "26a2980b-9808-451f-bc56-c057b628524d"
      },
      "source": [
        "display(preseason_df.head())"
      ],
      "execution_count": null,
      "outputs": [
        {
          "output_type": "display_data",
          "data": {
            "text/html": [
              "<div>\n",
              "<style scoped>\n",
              "    .dataframe tbody tr th:only-of-type {\n",
              "        vertical-align: middle;\n",
              "    }\n",
              "\n",
              "    .dataframe tbody tr th {\n",
              "        vertical-align: top;\n",
              "    }\n",
              "\n",
              "    .dataframe thead th {\n",
              "        text-align: right;\n",
              "    }\n",
              "</style>\n",
              "<table border=\"1\" class=\"dataframe\">\n",
              "  <thead>\n",
              "    <tr style=\"text-align: right;\">\n",
              "      <th></th>\n",
              "      <th>batter_id</th>\n",
              "      <th>batter_name</th>\n",
              "      <th>year</th>\n",
              "      <th>team</th>\n",
              "      <th>avg</th>\n",
              "      <th>G</th>\n",
              "      <th>AB</th>\n",
              "      <th>R</th>\n",
              "      <th>H</th>\n",
              "      <th>2B</th>\n",
              "      <th>3B</th>\n",
              "      <th>HR</th>\n",
              "      <th>TB</th>\n",
              "      <th>RBI</th>\n",
              "      <th>SB</th>\n",
              "      <th>CS</th>\n",
              "      <th>BB</th>\n",
              "      <th>HBP</th>\n",
              "      <th>SO</th>\n",
              "      <th>GDP</th>\n",
              "      <th>SLG</th>\n",
              "      <th>OBP</th>\n",
              "      <th>E</th>\n",
              "      <th>height/weight</th>\n",
              "      <th>year_born</th>\n",
              "      <th>position</th>\n",
              "      <th>career</th>\n",
              "      <th>starting_salary</th>\n",
              "      <th>OPS</th>\n",
              "    </tr>\n",
              "  </thead>\n",
              "  <tbody>\n",
              "    <tr>\n",
              "      <th>0</th>\n",
              "      <td>0</td>\n",
              "      <td>가르시아</td>\n",
              "      <td>2018</td>\n",
              "      <td>LG</td>\n",
              "      <td>0.350</td>\n",
              "      <td>7</td>\n",
              "      <td>20</td>\n",
              "      <td>1</td>\n",
              "      <td>7</td>\n",
              "      <td>1</td>\n",
              "      <td>0</td>\n",
              "      <td>1</td>\n",
              "      <td>11</td>\n",
              "      <td>5</td>\n",
              "      <td>0</td>\n",
              "      <td>0</td>\n",
              "      <td>2</td>\n",
              "      <td>0</td>\n",
              "      <td>3</td>\n",
              "      <td>1</td>\n",
              "      <td>0.550</td>\n",
              "      <td>0.409</td>\n",
              "      <td>1</td>\n",
              "      <td>177cm/93kg</td>\n",
              "      <td>1985년 04월 12일</td>\n",
              "      <td>내야수(우투우타)</td>\n",
              "      <td>쿠바 Ciego de Avila Maximo Gomez Baez(대)</td>\n",
              "      <td>NaN</td>\n",
              "      <td>0.959</td>\n",
              "    </tr>\n",
              "    <tr>\n",
              "      <th>1</th>\n",
              "      <td>1</td>\n",
              "      <td>강경학</td>\n",
              "      <td>2011</td>\n",
              "      <td>한화</td>\n",
              "      <td>0.000</td>\n",
              "      <td>4</td>\n",
              "      <td>2</td>\n",
              "      <td>2</td>\n",
              "      <td>0</td>\n",
              "      <td>0</td>\n",
              "      <td>0</td>\n",
              "      <td>0</td>\n",
              "      <td>0</td>\n",
              "      <td>1</td>\n",
              "      <td>0</td>\n",
              "      <td>1</td>\n",
              "      <td>0</td>\n",
              "      <td>2</td>\n",
              "      <td>1</td>\n",
              "      <td>0</td>\n",
              "      <td>0.000</td>\n",
              "      <td>0.500</td>\n",
              "      <td>0</td>\n",
              "      <td>180cm/72kg</td>\n",
              "      <td>1992년 08월 11일</td>\n",
              "      <td>내야수(우투좌타)</td>\n",
              "      <td>광주대성초-광주동성중-광주동성고</td>\n",
              "      <td>10000만원</td>\n",
              "      <td>0.500</td>\n",
              "    </tr>\n",
              "    <tr>\n",
              "      <th>2</th>\n",
              "      <td>1</td>\n",
              "      <td>강경학</td>\n",
              "      <td>2014</td>\n",
              "      <td>한화</td>\n",
              "      <td>-</td>\n",
              "      <td>4</td>\n",
              "      <td>0</td>\n",
              "      <td>2</td>\n",
              "      <td>0</td>\n",
              "      <td>0</td>\n",
              "      <td>0</td>\n",
              "      <td>0</td>\n",
              "      <td>0</td>\n",
              "      <td>0</td>\n",
              "      <td>0</td>\n",
              "      <td>0</td>\n",
              "      <td>0</td>\n",
              "      <td>0</td>\n",
              "      <td>0</td>\n",
              "      <td>0</td>\n",
              "      <td>NaN</td>\n",
              "      <td>NaN</td>\n",
              "      <td>0</td>\n",
              "      <td>180cm/72kg</td>\n",
              "      <td>1992년 08월 11일</td>\n",
              "      <td>내야수(우투좌타)</td>\n",
              "      <td>광주대성초-광주동성중-광주동성고</td>\n",
              "      <td>10000만원</td>\n",
              "      <td>NaN</td>\n",
              "    </tr>\n",
              "    <tr>\n",
              "      <th>3</th>\n",
              "      <td>1</td>\n",
              "      <td>강경학</td>\n",
              "      <td>2015</td>\n",
              "      <td>한화</td>\n",
              "      <td>0.130</td>\n",
              "      <td>10</td>\n",
              "      <td>23</td>\n",
              "      <td>3</td>\n",
              "      <td>3</td>\n",
              "      <td>0</td>\n",
              "      <td>0</td>\n",
              "      <td>0</td>\n",
              "      <td>3</td>\n",
              "      <td>1</td>\n",
              "      <td>3</td>\n",
              "      <td>0</td>\n",
              "      <td>4</td>\n",
              "      <td>1</td>\n",
              "      <td>9</td>\n",
              "      <td>0</td>\n",
              "      <td>0.130</td>\n",
              "      <td>0.286</td>\n",
              "      <td>2</td>\n",
              "      <td>180cm/72kg</td>\n",
              "      <td>1992년 08월 11일</td>\n",
              "      <td>내야수(우투좌타)</td>\n",
              "      <td>광주대성초-광주동성중-광주동성고</td>\n",
              "      <td>10000만원</td>\n",
              "      <td>0.416</td>\n",
              "    </tr>\n",
              "    <tr>\n",
              "      <th>4</th>\n",
              "      <td>1</td>\n",
              "      <td>강경학</td>\n",
              "      <td>2016</td>\n",
              "      <td>한화</td>\n",
              "      <td>0.188</td>\n",
              "      <td>14</td>\n",
              "      <td>32</td>\n",
              "      <td>4</td>\n",
              "      <td>6</td>\n",
              "      <td>1</td>\n",
              "      <td>1</td>\n",
              "      <td>0</td>\n",
              "      <td>9</td>\n",
              "      <td>2</td>\n",
              "      <td>1</td>\n",
              "      <td>2</td>\n",
              "      <td>0</td>\n",
              "      <td>1</td>\n",
              "      <td>10</td>\n",
              "      <td>0</td>\n",
              "      <td>0.281</td>\n",
              "      <td>0.212</td>\n",
              "      <td>0</td>\n",
              "      <td>180cm/72kg</td>\n",
              "      <td>1992년 08월 11일</td>\n",
              "      <td>내야수(우투좌타)</td>\n",
              "      <td>광주대성초-광주동성중-광주동성고</td>\n",
              "      <td>10000만원</td>\n",
              "      <td>0.493</td>\n",
              "    </tr>\n",
              "  </tbody>\n",
              "</table>\n",
              "</div>"
            ],
            "text/plain": [
              "   batter_id batter_name  ...  starting_salary    OPS\n",
              "0          0        가르시아  ...              NaN  0.959\n",
              "1          1         강경학  ...          10000만원  0.500\n",
              "2          1         강경학  ...          10000만원    NaN\n",
              "3          1         강경학  ...          10000만원  0.416\n",
              "4          1         강경학  ...          10000만원  0.493\n",
              "\n",
              "[5 rows x 29 columns]"
            ]
          },
          "metadata": {
            "tags": []
          }
        }
      ]
    },
    {
      "cell_type": "code",
      "metadata": {
        "id": "Xbou0x9IKk6y",
        "colab": {
          "base_uri": "https://localhost:8080/",
          "height": 317
        },
        "outputId": "2758f868-9755-4e62-9d6c-78db0b0678d1"
      },
      "source": [
        "display(preseason_df.describe())"
      ],
      "execution_count": null,
      "outputs": [
        {
          "output_type": "display_data",
          "data": {
            "text/html": [
              "<div>\n",
              "<style scoped>\n",
              "    .dataframe tbody tr th:only-of-type {\n",
              "        vertical-align: middle;\n",
              "    }\n",
              "\n",
              "    .dataframe tbody tr th {\n",
              "        vertical-align: top;\n",
              "    }\n",
              "\n",
              "    .dataframe thead th {\n",
              "        text-align: right;\n",
              "    }\n",
              "</style>\n",
              "<table border=\"1\" class=\"dataframe\">\n",
              "  <thead>\n",
              "    <tr style=\"text-align: right;\">\n",
              "      <th></th>\n",
              "      <th>batter_id</th>\n",
              "      <th>year</th>\n",
              "      <th>G</th>\n",
              "      <th>AB</th>\n",
              "      <th>R</th>\n",
              "      <th>H</th>\n",
              "      <th>2B</th>\n",
              "      <th>3B</th>\n",
              "      <th>HR</th>\n",
              "      <th>TB</th>\n",
              "      <th>RBI</th>\n",
              "      <th>SB</th>\n",
              "      <th>CS</th>\n",
              "      <th>BB</th>\n",
              "      <th>HBP</th>\n",
              "      <th>SO</th>\n",
              "      <th>GDP</th>\n",
              "      <th>SLG</th>\n",
              "      <th>OBP</th>\n",
              "      <th>E</th>\n",
              "      <th>OPS</th>\n",
              "    </tr>\n",
              "  </thead>\n",
              "  <tbody>\n",
              "    <tr>\n",
              "      <th>count</th>\n",
              "      <td>1393.000000</td>\n",
              "      <td>1393.000000</td>\n",
              "      <td>1393.000000</td>\n",
              "      <td>1393.000000</td>\n",
              "      <td>1393.000000</td>\n",
              "      <td>1393.000000</td>\n",
              "      <td>1393.000000</td>\n",
              "      <td>1393.000000</td>\n",
              "      <td>1393.000000</td>\n",
              "      <td>1393.000000</td>\n",
              "      <td>1393.000000</td>\n",
              "      <td>1393.000000</td>\n",
              "      <td>1393.000000</td>\n",
              "      <td>1393.000000</td>\n",
              "      <td>1393.000000</td>\n",
              "      <td>1393.000000</td>\n",
              "      <td>1393.000000</td>\n",
              "      <td>1364.000000</td>\n",
              "      <td>1368.000000</td>\n",
              "      <td>1393.000000</td>\n",
              "      <td>1364.000000</td>\n",
              "    </tr>\n",
              "    <tr>\n",
              "      <th>mean</th>\n",
              "      <td>173.434314</td>\n",
              "      <td>2013.014358</td>\n",
              "      <td>8.705671</td>\n",
              "      <td>19.201723</td>\n",
              "      <td>2.679828</td>\n",
              "      <td>5.021536</td>\n",
              "      <td>0.954774</td>\n",
              "      <td>0.119885</td>\n",
              "      <td>0.391960</td>\n",
              "      <td>7.391960</td>\n",
              "      <td>2.430725</td>\n",
              "      <td>0.629576</td>\n",
              "      <td>0.291457</td>\n",
              "      <td>1.877961</td>\n",
              "      <td>0.330223</td>\n",
              "      <td>3.714286</td>\n",
              "      <td>0.447236</td>\n",
              "      <td>0.361012</td>\n",
              "      <td>0.317912</td>\n",
              "      <td>0.381910</td>\n",
              "      <td>0.676924</td>\n",
              "    </tr>\n",
              "    <tr>\n",
              "      <th>std</th>\n",
              "      <td>94.716851</td>\n",
              "      <td>4.166757</td>\n",
              "      <td>5.562686</td>\n",
              "      <td>13.395946</td>\n",
              "      <td>2.637212</td>\n",
              "      <td>4.232584</td>\n",
              "      <td>1.196904</td>\n",
              "      <td>0.379976</td>\n",
              "      <td>0.748557</td>\n",
              "      <td>6.538787</td>\n",
              "      <td>2.698122</td>\n",
              "      <td>1.146854</td>\n",
              "      <td>0.595522</td>\n",
              "      <td>2.053392</td>\n",
              "      <td>0.642204</td>\n",
              "      <td>3.180884</td>\n",
              "      <td>0.723364</td>\n",
              "      <td>0.269892</td>\n",
              "      <td>0.151489</td>\n",
              "      <td>0.729521</td>\n",
              "      <td>0.386933</td>\n",
              "    </tr>\n",
              "    <tr>\n",
              "      <th>min</th>\n",
              "      <td>0.000000</td>\n",
              "      <td>2002.000000</td>\n",
              "      <td>1.000000</td>\n",
              "      <td>0.000000</td>\n",
              "      <td>0.000000</td>\n",
              "      <td>0.000000</td>\n",
              "      <td>0.000000</td>\n",
              "      <td>0.000000</td>\n",
              "      <td>0.000000</td>\n",
              "      <td>0.000000</td>\n",
              "      <td>0.000000</td>\n",
              "      <td>0.000000</td>\n",
              "      <td>0.000000</td>\n",
              "      <td>0.000000</td>\n",
              "      <td>0.000000</td>\n",
              "      <td>0.000000</td>\n",
              "      <td>0.000000</td>\n",
              "      <td>0.000000</td>\n",
              "      <td>0.000000</td>\n",
              "      <td>0.000000</td>\n",
              "      <td>0.000000</td>\n",
              "    </tr>\n",
              "    <tr>\n",
              "      <th>25%</th>\n",
              "      <td>99.000000</td>\n",
              "      <td>2010.000000</td>\n",
              "      <td>6.000000</td>\n",
              "      <td>9.000000</td>\n",
              "      <td>1.000000</td>\n",
              "      <td>2.000000</td>\n",
              "      <td>0.000000</td>\n",
              "      <td>0.000000</td>\n",
              "      <td>0.000000</td>\n",
              "      <td>2.000000</td>\n",
              "      <td>0.000000</td>\n",
              "      <td>0.000000</td>\n",
              "      <td>0.000000</td>\n",
              "      <td>0.000000</td>\n",
              "      <td>0.000000</td>\n",
              "      <td>1.000000</td>\n",
              "      <td>0.000000</td>\n",
              "      <td>0.217000</td>\n",
              "      <td>0.250000</td>\n",
              "      <td>0.000000</td>\n",
              "      <td>0.472000</td>\n",
              "    </tr>\n",
              "    <tr>\n",
              "      <th>50%</th>\n",
              "      <td>178.000000</td>\n",
              "      <td>2014.000000</td>\n",
              "      <td>9.000000</td>\n",
              "      <td>18.000000</td>\n",
              "      <td>2.000000</td>\n",
              "      <td>4.000000</td>\n",
              "      <td>1.000000</td>\n",
              "      <td>0.000000</td>\n",
              "      <td>0.000000</td>\n",
              "      <td>6.000000</td>\n",
              "      <td>2.000000</td>\n",
              "      <td>0.000000</td>\n",
              "      <td>0.000000</td>\n",
              "      <td>1.000000</td>\n",
              "      <td>0.000000</td>\n",
              "      <td>3.000000</td>\n",
              "      <td>0.000000</td>\n",
              "      <td>0.344500</td>\n",
              "      <td>0.333000</td>\n",
              "      <td>0.000000</td>\n",
              "      <td>0.675000</td>\n",
              "    </tr>\n",
              "    <tr>\n",
              "      <th>75%</th>\n",
              "      <td>254.000000</td>\n",
              "      <td>2017.000000</td>\n",
              "      <td>11.000000</td>\n",
              "      <td>28.000000</td>\n",
              "      <td>4.000000</td>\n",
              "      <td>8.000000</td>\n",
              "      <td>2.000000</td>\n",
              "      <td>0.000000</td>\n",
              "      <td>1.000000</td>\n",
              "      <td>11.000000</td>\n",
              "      <td>4.000000</td>\n",
              "      <td>1.000000</td>\n",
              "      <td>0.000000</td>\n",
              "      <td>3.000000</td>\n",
              "      <td>1.000000</td>\n",
              "      <td>5.000000</td>\n",
              "      <td>1.000000</td>\n",
              "      <td>0.478000</td>\n",
              "      <td>0.400000</td>\n",
              "      <td>1.000000</td>\n",
              "      <td>0.867000</td>\n",
              "    </tr>\n",
              "    <tr>\n",
              "      <th>max</th>\n",
              "      <td>344.000000</td>\n",
              "      <td>2018.000000</td>\n",
              "      <td>119.000000</td>\n",
              "      <td>183.000000</td>\n",
              "      <td>35.000000</td>\n",
              "      <td>51.000000</td>\n",
              "      <td>11.000000</td>\n",
              "      <td>4.000000</td>\n",
              "      <td>5.000000</td>\n",
              "      <td>68.000000</td>\n",
              "      <td>24.000000</td>\n",
              "      <td>9.000000</td>\n",
              "      <td>4.000000</td>\n",
              "      <td>21.000000</td>\n",
              "      <td>4.000000</td>\n",
              "      <td>36.000000</td>\n",
              "      <td>5.000000</td>\n",
              "      <td>4.000000</td>\n",
              "      <td>1.000000</td>\n",
              "      <td>5.000000</td>\n",
              "      <td>5.000000</td>\n",
              "    </tr>\n",
              "  </tbody>\n",
              "</table>\n",
              "</div>"
            ],
            "text/plain": [
              "         batter_id         year  ...            E          OPS\n",
              "count  1393.000000  1393.000000  ...  1393.000000  1364.000000\n",
              "mean    173.434314  2013.014358  ...     0.381910     0.676924\n",
              "std      94.716851     4.166757  ...     0.729521     0.386933\n",
              "min       0.000000  2002.000000  ...     0.000000     0.000000\n",
              "25%      99.000000  2010.000000  ...     0.000000     0.472000\n",
              "50%     178.000000  2014.000000  ...     0.000000     0.675000\n",
              "75%     254.000000  2017.000000  ...     1.000000     0.867000\n",
              "max     344.000000  2018.000000  ...     5.000000     5.000000\n",
              "\n",
              "[8 rows x 21 columns]"
            ]
          },
          "metadata": {
            "tags": []
          }
        }
      ]
    },
    {
      "cell_type": "code",
      "metadata": {
        "id": "TV3JAEo-L-jh",
        "colab": {
          "base_uri": "https://localhost:8080/",
          "height": 693
        },
        "outputId": "6fc097fc-4ae5-4d5c-e816-31f7d021bf0c"
      },
      "source": [
        "preseason_df.hist(figsize=(10,9))\n",
        "plt.tight_layout() #그래프 간격 설정\n",
        "plt.show()"
      ],
      "execution_count": null,
      "outputs": [
        {
          "output_type": "stream",
          "text": [
            "findfont: Font family ['NanumBarunGothic'] not found. Falling back to DejaVu Sans.\n",
            "findfont: Font family ['NanumBarunGothic'] not found. Falling back to DejaVu Sans.\n"
          ],
          "name": "stderr"
        },
        {
          "output_type": "display_data",
          "data": {
            "image/png": "[encoded data removed]",
            "text/plain": [
              "<Figure size 720x648 with 25 Axes>"
            ]
          },
          "metadata": {
            "tags": [],
            "needs_background": "light"
          }
        }
      ]
    },
    {
      "cell_type": "code",
      "metadata": {
        "id": "7w3fq4B2MuKq",
        "colab": {
          "base_uri": "https://localhost:8080/",
          "height": 162
        },
        "outputId": "03a81d33-90bd-4662-fc1f-7b3b977b1787"
      },
      "source": [
        "#정규시즌 데이터에서 2002년 이후의 연도별 기록된 선수의 수 \n",
        "regular_count = regular_season_df.groupby('year')['batter_id'].count().rename('reqular')\n",
        "\n",
        "#프리시즌 데이터에서 연도별 기록된 선수의 수\n",
        "preseason_count = preseason_df.groupby('year')['batter_id'].count().rename('preseason')\n",
        "\n",
        "#concat은 두개의 Data_Frame을 합치는 것\n",
        "# round는 소숫점 두자리까지\n",
        "# axis = 0은 위아래로 병합, axis = 1 옆으로 병합\n",
        "\n",
        "pd.concat([regular_count, preseason_count, np.round(preseason_count / regular_count,2).rename('ratio')], axis = 1).transpose().loc[:,2002:]"
      ],
      "execution_count": null,
      "outputs": [
        {
          "output_type": "execute_result",
          "data": {
            "text/html": [
              "<div>\n",
              "<style scoped>\n",
              "    .dataframe tbody tr th:only-of-type {\n",
              "        vertical-align: middle;\n",
              "    }\n",
              "\n",
              "    .dataframe tbody tr th {\n",
              "        vertical-align: top;\n",
              "    }\n",
              "\n",
              "    .dataframe thead th {\n",
              "        text-align: right;\n",
              "    }\n",
              "</style>\n",
              "<table border=\"1\" class=\"dataframe\">\n",
              "  <thead>\n",
              "    <tr style=\"text-align: right;\">\n",
              "      <th>year</th>\n",
              "      <th>2002</th>\n",
              "      <th>2003</th>\n",
              "      <th>2004</th>\n",
              "      <th>2005</th>\n",
              "      <th>2006</th>\n",
              "      <th>2007</th>\n",
              "      <th>2008</th>\n",
              "      <th>2009</th>\n",
              "      <th>2010</th>\n",
              "      <th>2011</th>\n",
              "      <th>2012</th>\n",
              "      <th>2013</th>\n",
              "      <th>2014</th>\n",
              "      <th>2015</th>\n",
              "      <th>2016</th>\n",
              "      <th>2017</th>\n",
              "      <th>2018</th>\n",
              "    </tr>\n",
              "  </thead>\n",
              "  <tbody>\n",
              "    <tr>\n",
              "      <th>reqular</th>\n",
              "      <td>43.00</td>\n",
              "      <td>54.00</td>\n",
              "      <td>68.00</td>\n",
              "      <td>73.00</td>\n",
              "      <td>85.00</td>\n",
              "      <td>98.00</td>\n",
              "      <td>115.00</td>\n",
              "      <td>124.00</td>\n",
              "      <td>130.00</td>\n",
              "      <td>151.0</td>\n",
              "      <td>174.0</td>\n",
              "      <td>194.00</td>\n",
              "      <td>186.00</td>\n",
              "      <td>207.00</td>\n",
              "      <td>213.00</td>\n",
              "      <td>217.00</td>\n",
              "      <td>227.0</td>\n",
              "    </tr>\n",
              "    <tr>\n",
              "      <th>preseason</th>\n",
              "      <td>12.00</td>\n",
              "      <td>19.00</td>\n",
              "      <td>28.00</td>\n",
              "      <td>37.00</td>\n",
              "      <td>36.00</td>\n",
              "      <td>43.00</td>\n",
              "      <td>61.00</td>\n",
              "      <td>66.00</td>\n",
              "      <td>72.00</td>\n",
              "      <td>75.0</td>\n",
              "      <td>87.0</td>\n",
              "      <td>104.00</td>\n",
              "      <td>117.00</td>\n",
              "      <td>134.00</td>\n",
              "      <td>153.00</td>\n",
              "      <td>167.00</td>\n",
              "      <td>182.0</td>\n",
              "    </tr>\n",
              "    <tr>\n",
              "      <th>ratio</th>\n",
              "      <td>0.28</td>\n",
              "      <td>0.35</td>\n",
              "      <td>0.41</td>\n",
              "      <td>0.51</td>\n",
              "      <td>0.42</td>\n",
              "      <td>0.44</td>\n",
              "      <td>0.53</td>\n",
              "      <td>0.53</td>\n",
              "      <td>0.55</td>\n",
              "      <td>0.5</td>\n",
              "      <td>0.5</td>\n",
              "      <td>0.54</td>\n",
              "      <td>0.63</td>\n",
              "      <td>0.65</td>\n",
              "      <td>0.72</td>\n",
              "      <td>0.77</td>\n",
              "      <td>0.8</td>\n",
              "    </tr>\n",
              "  </tbody>\n",
              "</table>\n",
              "</div>"
            ],
            "text/plain": [
              "year        2002   2003   2004   2005  ...    2015    2016    2017   2018\n",
              "reqular    43.00  54.00  68.00  73.00  ...  207.00  213.00  217.00  227.0\n",
              "preseason  12.00  19.00  28.00  37.00  ...  134.00  153.00  167.00  182.0\n",
              "ratio       0.28   0.35   0.41   0.51  ...    0.65    0.72    0.77    0.8\n",
              "\n",
              "[3 rows x 17 columns]"
            ]
          },
          "metadata": {
            "tags": []
          },
          "execution_count": 20
        }
      ]
    },
    {
      "cell_type": "code",
      "metadata": {
        "id": "ovT2gNf8QNKg"
      },
      "source": [
        "# 타자의 이름과 연도를 이용해 새로운 인덱스를 생성\n",
        "regular_season_df['new_idx'] = regular_season_df['batter_name'] + regular_season_df['year'].apply(str)\n",
        "\n",
        "preseason_df['new_idx'] = preseason_df['batter_name'] + preseason_df['year'].apply(str)\n",
        "\n",
        "# 새로운 인덱스의 교집합\n",
        "intersection_idx = list(set(regular_season_df['new_idx']).intersection(preseason_df['new_idx']))\n"
      ],
      "execution_count": null,
      "outputs": []
    },
    {
      "cell_type": "code",
      "metadata": {
        "id": "J9b63vZsShW8",
        "colab": {
          "base_uri": "https://localhost:8080/"
        },
        "outputId": "4c650450-1817-4223-ac5b-4cd89d2c877d"
      },
      "source": [
        "# 교집합에 존재한 데이터만 불러오기\n",
        "regular_season_new = regular_season_df.loc[regular_season_df['new_idx'].apply(lambda x : x in intersection_idx)].copy()\n",
        "regular_season_new = regular_season_new.sort_values(by = 'new_idx').reset_index(drop= True)\n",
        "\n",
        "# 비교를 위해 인덱스로 정렬\n",
        "preseason_new = preseason_df.loc[preseason_df['new_idx'].apply(lambda x : x in intersection_idx)].copy()\n",
        "preseason_new = preseason_new.sort_values(by = 'new_idx').reset_index(drop= True)\n",
        "\n",
        "# 검정 코드\n",
        "print(regular_season_new.shape,preseason_new.shape)\n",
        "sum(regular_season_new['new_idx'] == preseason_new['new_idx'])"
      ],
      "execution_count": null,
      "outputs": [
        {
          "output_type": "stream",
          "text": [
            "(1358, 30) (1358, 30)\n"
          ],
          "name": "stdout"
        },
        {
          "output_type": "execute_result",
          "data": {
            "text/plain": [
              "1358"
            ]
          },
          "metadata": {
            "tags": []
          },
          "execution_count": 22
        }
      ]
    },
    {
      "cell_type": "code",
      "metadata": {
        "id": "u9e_y7hxWjMy",
        "colab": {
          "base_uri": "https://localhost:8080/",
          "height": 809
        },
        "outputId": "08c063a6-632a-45ba-b541-a1e3b53a10a7"
      },
      "source": [
        "#정규시즌과 프리시즌의 상관관계 계산\n",
        "# 0.15로 정규시즌과 프리시즌과의 상관관계는 거의 없다고 할 수 있다. > 데이터 분석에서 프리시즌 데이터를 분석에서 제외한다.\n",
        "correlation = regular_season_new['OPS'].corr(preseason_new['OPS'])\n",
        "sns.scatterplot(regular_season_new['OPS'], preseason_new['OPS'])\n",
        "plt.title('correlation : ' + str(np.round(correlation,2)), fontsize = 20)\n",
        "plt.xlabel(\"정규시즌 OPS\", fontsize = 12)\n",
        "plt.ylabel(\"프리시즌 OPS\", fontsize = 12)\n",
        "plt.show()"
      ],
      "execution_count": null,
      "outputs": [
        {
          "output_type": "stream",
          "text": [
            "/usr/local/lib/python3.7/dist-packages/seaborn/_decorators.py:43: FutureWarning: Pass the following variables as keyword args: x, y. From version 0.12, the only valid positional argument will be `data`, and passing other arguments without an explicit keyword will result in an error or misinterpretation.\n",
            "  FutureWarning\n",
            "findfont: Font family ['NanumBarunGothic'] not found. Falling back to DejaVu Sans.\n",
            "/usr/local/lib/python3.7/dist-packages/matplotlib/backends/backend_agg.py:214: RuntimeWarning: Glyph 51221 missing from current font.\n",
            "  font.set_text(s, 0.0, flags=flags)\n",
            "/usr/local/lib/python3.7/dist-packages/matplotlib/backends/backend_agg.py:214: RuntimeWarning: Glyph 44508 missing from current font.\n",
            "  font.set_text(s, 0.0, flags=flags)\n",
            "/usr/local/lib/python3.7/dist-packages/matplotlib/backends/backend_agg.py:214: RuntimeWarning: Glyph 49884 missing from current font.\n",
            "  font.set_text(s, 0.0, flags=flags)\n",
            "/usr/local/lib/python3.7/dist-packages/matplotlib/backends/backend_agg.py:214: RuntimeWarning: Glyph 51596 missing from current font.\n",
            "  font.set_text(s, 0.0, flags=flags)\n",
            "/usr/local/lib/python3.7/dist-packages/matplotlib/backends/backend_agg.py:214: RuntimeWarning: Glyph 54532 missing from current font.\n",
            "  font.set_text(s, 0.0, flags=flags)\n",
            "/usr/local/lib/python3.7/dist-packages/matplotlib/backends/backend_agg.py:214: RuntimeWarning: Glyph 47532 missing from current font.\n",
            "  font.set_text(s, 0.0, flags=flags)\n",
            "/usr/local/lib/python3.7/dist-packages/matplotlib/backends/backend_agg.py:183: RuntimeWarning: Glyph 51221 missing from current font.\n",
            "  font.set_text(s, 0, flags=flags)\n",
            "/usr/local/lib/python3.7/dist-packages/matplotlib/backends/backend_agg.py:183: RuntimeWarning: Glyph 44508 missing from current font.\n",
            "  font.set_text(s, 0, flags=flags)\n",
            "/usr/local/lib/python3.7/dist-packages/matplotlib/backends/backend_agg.py:183: RuntimeWarning: Glyph 49884 missing from current font.\n",
            "  font.set_text(s, 0, flags=flags)\n",
            "/usr/local/lib/python3.7/dist-packages/matplotlib/backends/backend_agg.py:183: RuntimeWarning: Glyph 51596 missing from current font.\n",
            "  font.set_text(s, 0, flags=flags)\n",
            "/usr/local/lib/python3.7/dist-packages/matplotlib/backends/backend_agg.py:183: RuntimeWarning: Glyph 54532 missing from current font.\n",
            "  font.set_text(s, 0, flags=flags)\n",
            "/usr/local/lib/python3.7/dist-packages/matplotlib/backends/backend_agg.py:183: RuntimeWarning: Glyph 47532 missing from current font.\n",
            "  font.set_text(s, 0, flags=flags)\n"
          ],
          "name": "stderr"
        },
        {
          "output_type": "display_data",
          "data": {
            "image/png": "[encoded data removed]",
            "text/plain": [
              "<Figure size 432x288 with 1 Axes>"
            ]
          },
          "metadata": {
            "tags": [],
            "needs_background": "light"
          }
        }
      ]
    },
    {
      "cell_type": "code",
      "metadata": {
        "colab": {
          "base_uri": "https://localhost:8080/",
          "height": 879
        },
        "id": "fPOTJomaONtY",
        "outputId": "5833ec5b-0417-445f-9adf-ff6fdcf8ef22"
      },
      "source": [
        "regular_season_df = pd.read_csv('/content/drive/MyDrive/Data_study/KBO_data/Regular_Season_Batter.csv')\n",
        "display(regular_season_df.shape, regular_season_df.head(),regular_season_df.describe())\n",
        "# 29 features, 2454 datas\n"
      ],
      "execution_count": null,
      "outputs": [
        {
          "output_type": "display_data",
          "data": {
            "text/plain": [
              "(2454, 29)"
            ]
          },
          "metadata": {
            "tags": []
          }
        },
        {
          "output_type": "display_data",
          "data": {
            "text/html": [
              "<div>\n",
              "<style scoped>\n",
              "    .dataframe tbody tr th:only-of-type {\n",
              "        vertical-align: middle;\n",
              "    }\n",
              "\n",
              "    .dataframe tbody tr th {\n",
              "        vertical-align: top;\n",
              "    }\n",
              "\n",
              "    .dataframe thead th {\n",
              "        text-align: right;\n",
              "    }\n",
              "</style>\n",
              "<table border=\"1\" class=\"dataframe\">\n",
              "  <thead>\n",
              "    <tr style=\"text-align: right;\">\n",
              "      <th></th>\n",
              "      <th>batter_id</th>\n",
              "      <th>batter_name</th>\n",
              "      <th>year</th>\n",
              "      <th>team</th>\n",
              "      <th>avg</th>\n",
              "      <th>G</th>\n",
              "      <th>AB</th>\n",
              "      <th>R</th>\n",
              "      <th>H</th>\n",
              "      <th>2B</th>\n",
              "      <th>3B</th>\n",
              "      <th>HR</th>\n",
              "      <th>TB</th>\n",
              "      <th>RBI</th>\n",
              "      <th>SB</th>\n",
              "      <th>CS</th>\n",
              "      <th>BB</th>\n",
              "      <th>HBP</th>\n",
              "      <th>SO</th>\n",
              "      <th>GDP</th>\n",
              "      <th>SLG</th>\n",
              "      <th>OBP</th>\n",
              "      <th>E</th>\n",
              "      <th>height/weight</th>\n",
              "      <th>year_born</th>\n",
              "      <th>position</th>\n",
              "      <th>career</th>\n",
              "      <th>starting_salary</th>\n",
              "      <th>OPS</th>\n",
              "    </tr>\n",
              "  </thead>\n",
              "  <tbody>\n",
              "    <tr>\n",
              "      <th>0</th>\n",
              "      <td>0</td>\n",
              "      <td>가르시아</td>\n",
              "      <td>2018</td>\n",
              "      <td>LG</td>\n",
              "      <td>0.339</td>\n",
              "      <td>50</td>\n",
              "      <td>183</td>\n",
              "      <td>27</td>\n",
              "      <td>62</td>\n",
              "      <td>9</td>\n",
              "      <td>0</td>\n",
              "      <td>8</td>\n",
              "      <td>95</td>\n",
              "      <td>34</td>\n",
              "      <td>5</td>\n",
              "      <td>0</td>\n",
              "      <td>9</td>\n",
              "      <td>8</td>\n",
              "      <td>25</td>\n",
              "      <td>3</td>\n",
              "      <td>0.519</td>\n",
              "      <td>0.383</td>\n",
              "      <td>9</td>\n",
              "      <td>177cm/93kg</td>\n",
              "      <td>1985년 04월 12일</td>\n",
              "      <td>내야수(우투우타)</td>\n",
              "      <td>쿠바 Ciego de Avila Maximo Gomez Baez(대)</td>\n",
              "      <td>NaN</td>\n",
              "      <td>0.902</td>\n",
              "    </tr>\n",
              "    <tr>\n",
              "      <th>1</th>\n",
              "      <td>1</td>\n",
              "      <td>강경학</td>\n",
              "      <td>2011</td>\n",
              "      <td>한화</td>\n",
              "      <td>0.000</td>\n",
              "      <td>2</td>\n",
              "      <td>1</td>\n",
              "      <td>0</td>\n",
              "      <td>0</td>\n",
              "      <td>0</td>\n",
              "      <td>0</td>\n",
              "      <td>0</td>\n",
              "      <td>0</td>\n",
              "      <td>0</td>\n",
              "      <td>0</td>\n",
              "      <td>0</td>\n",
              "      <td>0</td>\n",
              "      <td>0</td>\n",
              "      <td>1</td>\n",
              "      <td>0</td>\n",
              "      <td>0.000</td>\n",
              "      <td>0.000</td>\n",
              "      <td>1</td>\n",
              "      <td>180cm/72kg</td>\n",
              "      <td>1992년 08월 11일</td>\n",
              "      <td>내야수(우투좌타)</td>\n",
              "      <td>광주대성초-광주동성중-광주동성고</td>\n",
              "      <td>10000만원</td>\n",
              "      <td>0.000</td>\n",
              "    </tr>\n",
              "    <tr>\n",
              "      <th>2</th>\n",
              "      <td>1</td>\n",
              "      <td>강경학</td>\n",
              "      <td>2014</td>\n",
              "      <td>한화</td>\n",
              "      <td>0.221</td>\n",
              "      <td>41</td>\n",
              "      <td>86</td>\n",
              "      <td>11</td>\n",
              "      <td>19</td>\n",
              "      <td>2</td>\n",
              "      <td>3</td>\n",
              "      <td>1</td>\n",
              "      <td>30</td>\n",
              "      <td>7</td>\n",
              "      <td>0</td>\n",
              "      <td>0</td>\n",
              "      <td>13</td>\n",
              "      <td>2</td>\n",
              "      <td>28</td>\n",
              "      <td>1</td>\n",
              "      <td>0.349</td>\n",
              "      <td>0.337</td>\n",
              "      <td>6</td>\n",
              "      <td>180cm/72kg</td>\n",
              "      <td>1992년 08월 11일</td>\n",
              "      <td>내야수(우투좌타)</td>\n",
              "      <td>광주대성초-광주동성중-광주동성고</td>\n",
              "      <td>10000만원</td>\n",
              "      <td>0.686</td>\n",
              "    </tr>\n",
              "    <tr>\n",
              "      <th>3</th>\n",
              "      <td>1</td>\n",
              "      <td>강경학</td>\n",
              "      <td>2015</td>\n",
              "      <td>한화</td>\n",
              "      <td>0.257</td>\n",
              "      <td>120</td>\n",
              "      <td>311</td>\n",
              "      <td>50</td>\n",
              "      <td>80</td>\n",
              "      <td>7</td>\n",
              "      <td>4</td>\n",
              "      <td>2</td>\n",
              "      <td>101</td>\n",
              "      <td>27</td>\n",
              "      <td>4</td>\n",
              "      <td>3</td>\n",
              "      <td>40</td>\n",
              "      <td>5</td>\n",
              "      <td>58</td>\n",
              "      <td>3</td>\n",
              "      <td>0.325</td>\n",
              "      <td>0.348</td>\n",
              "      <td>15</td>\n",
              "      <td>180cm/72kg</td>\n",
              "      <td>1992년 08월 11일</td>\n",
              "      <td>내야수(우투좌타)</td>\n",
              "      <td>광주대성초-광주동성중-광주동성고</td>\n",
              "      <td>10000만원</td>\n",
              "      <td>0.673</td>\n",
              "    </tr>\n",
              "    <tr>\n",
              "      <th>4</th>\n",
              "      <td>1</td>\n",
              "      <td>강경학</td>\n",
              "      <td>2016</td>\n",
              "      <td>한화</td>\n",
              "      <td>0.158</td>\n",
              "      <td>46</td>\n",
              "      <td>101</td>\n",
              "      <td>16</td>\n",
              "      <td>16</td>\n",
              "      <td>3</td>\n",
              "      <td>2</td>\n",
              "      <td>1</td>\n",
              "      <td>26</td>\n",
              "      <td>7</td>\n",
              "      <td>0</td>\n",
              "      <td>0</td>\n",
              "      <td>8</td>\n",
              "      <td>2</td>\n",
              "      <td>30</td>\n",
              "      <td>5</td>\n",
              "      <td>0.257</td>\n",
              "      <td>0.232</td>\n",
              "      <td>7</td>\n",
              "      <td>180cm/72kg</td>\n",
              "      <td>1992년 08월 11일</td>\n",
              "      <td>내야수(우투좌타)</td>\n",
              "      <td>광주대성초-광주동성중-광주동성고</td>\n",
              "      <td>10000만원</td>\n",
              "      <td>0.489</td>\n",
              "    </tr>\n",
              "  </tbody>\n",
              "</table>\n",
              "</div>"
            ],
            "text/plain": [
              "   batter_id batter_name  ...  starting_salary    OPS\n",
              "0          0        가르시아  ...              NaN  0.902\n",
              "1          1         강경학  ...          10000만원  0.000\n",
              "2          1         강경학  ...          10000만원  0.686\n",
              "3          1         강경학  ...          10000만원  0.673\n",
              "4          1         강경학  ...          10000만원  0.489\n",
              "\n",
              "[5 rows x 29 columns]"
            ]
          },
          "metadata": {
            "tags": []
          }
        },
        {
          "output_type": "display_data",
          "data": {
            "text/html": [
              "<div>\n",
              "<style scoped>\n",
              "    .dataframe tbody tr th:only-of-type {\n",
              "        vertical-align: middle;\n",
              "    }\n",
              "\n",
              "    .dataframe tbody tr th {\n",
              "        vertical-align: top;\n",
              "    }\n",
              "\n",
              "    .dataframe thead th {\n",
              "        text-align: right;\n",
              "    }\n",
              "</style>\n",
              "<table border=\"1\" class=\"dataframe\">\n",
              "  <thead>\n",
              "    <tr style=\"text-align: right;\">\n",
              "      <th></th>\n",
              "      <th>batter_id</th>\n",
              "      <th>year</th>\n",
              "      <th>avg</th>\n",
              "      <th>G</th>\n",
              "      <th>AB</th>\n",
              "      <th>R</th>\n",
              "      <th>H</th>\n",
              "      <th>2B</th>\n",
              "      <th>3B</th>\n",
              "      <th>HR</th>\n",
              "      <th>TB</th>\n",
              "      <th>RBI</th>\n",
              "      <th>SB</th>\n",
              "      <th>CS</th>\n",
              "      <th>BB</th>\n",
              "      <th>HBP</th>\n",
              "      <th>SO</th>\n",
              "      <th>GDP</th>\n",
              "      <th>SLG</th>\n",
              "      <th>OBP</th>\n",
              "      <th>E</th>\n",
              "      <th>OPS</th>\n",
              "    </tr>\n",
              "  </thead>\n",
              "  <tbody>\n",
              "    <tr>\n",
              "      <th>count</th>\n",
              "      <td>2454.000000</td>\n",
              "      <td>2454.000000</td>\n",
              "      <td>2428.000000</td>\n",
              "      <td>2454.000000</td>\n",
              "      <td>2454.000000</td>\n",
              "      <td>2454.000000</td>\n",
              "      <td>2454.000000</td>\n",
              "      <td>2454.000000</td>\n",
              "      <td>2454.000000</td>\n",
              "      <td>2454.000000</td>\n",
              "      <td>2454.000000</td>\n",
              "      <td>2454.000000</td>\n",
              "      <td>2454.000000</td>\n",
              "      <td>2454.000000</td>\n",
              "      <td>2454.000000</td>\n",
              "      <td>2454.000000</td>\n",
              "      <td>2454.000000</td>\n",
              "      <td>2454.000000</td>\n",
              "      <td>2428.000000</td>\n",
              "      <td>2430.000000</td>\n",
              "      <td>2454.000000</td>\n",
              "      <td>2428.000000</td>\n",
              "    </tr>\n",
              "    <tr>\n",
              "      <th>mean</th>\n",
              "      <td>178.079462</td>\n",
              "      <td>2011.614507</td>\n",
              "      <td>0.237559</td>\n",
              "      <td>72.535045</td>\n",
              "      <td>201.514670</td>\n",
              "      <td>29.912388</td>\n",
              "      <td>55.988183</td>\n",
              "      <td>9.863488</td>\n",
              "      <td>0.957620</td>\n",
              "      <td>5.504075</td>\n",
              "      <td>84.279136</td>\n",
              "      <td>27.788509</td>\n",
              "      <td>5.290139</td>\n",
              "      <td>2.335778</td>\n",
              "      <td>20.943765</td>\n",
              "      <td>3.424613</td>\n",
              "      <td>38.596985</td>\n",
              "      <td>4.603504</td>\n",
              "      <td>0.343826</td>\n",
              "      <td>0.306684</td>\n",
              "      <td>3.676447</td>\n",
              "      <td>0.649939</td>\n",
              "    </tr>\n",
              "    <tr>\n",
              "      <th>std</th>\n",
              "      <td>97.557947</td>\n",
              "      <td>4.992833</td>\n",
              "      <td>0.098440</td>\n",
              "      <td>45.093871</td>\n",
              "      <td>169.537029</td>\n",
              "      <td>28.778759</td>\n",
              "      <td>52.253844</td>\n",
              "      <td>9.871314</td>\n",
              "      <td>1.647193</td>\n",
              "      <td>7.989380</td>\n",
              "      <td>82.854200</td>\n",
              "      <td>29.602966</td>\n",
              "      <td>9.088580</td>\n",
              "      <td>3.194045</td>\n",
              "      <td>21.206113</td>\n",
              "      <td>4.132614</td>\n",
              "      <td>31.801466</td>\n",
              "      <td>4.713531</td>\n",
              "      <td>0.163335</td>\n",
              "      <td>0.111778</td>\n",
              "      <td>4.585248</td>\n",
              "      <td>0.261634</td>\n",
              "    </tr>\n",
              "    <tr>\n",
              "      <th>min</th>\n",
              "      <td>0.000000</td>\n",
              "      <td>1993.000000</td>\n",
              "      <td>0.000000</td>\n",
              "      <td>1.000000</td>\n",
              "      <td>0.000000</td>\n",
              "      <td>0.000000</td>\n",
              "      <td>0.000000</td>\n",
              "      <td>0.000000</td>\n",
              "      <td>0.000000</td>\n",
              "      <td>0.000000</td>\n",
              "      <td>0.000000</td>\n",
              "      <td>0.000000</td>\n",
              "      <td>0.000000</td>\n",
              "      <td>0.000000</td>\n",
              "      <td>0.000000</td>\n",
              "      <td>0.000000</td>\n",
              "      <td>0.000000</td>\n",
              "      <td>0.000000</td>\n",
              "      <td>0.000000</td>\n",
              "      <td>0.000000</td>\n",
              "      <td>0.000000</td>\n",
              "      <td>0.000000</td>\n",
              "    </tr>\n",
              "    <tr>\n",
              "      <th>25%</th>\n",
              "      <td>101.250000</td>\n",
              "      <td>2008.000000</td>\n",
              "      <td>0.203000</td>\n",
              "      <td>28.000000</td>\n",
              "      <td>38.250000</td>\n",
              "      <td>5.000000</td>\n",
              "      <td>8.000000</td>\n",
              "      <td>1.000000</td>\n",
              "      <td>0.000000</td>\n",
              "      <td>0.000000</td>\n",
              "      <td>10.000000</td>\n",
              "      <td>3.000000</td>\n",
              "      <td>0.000000</td>\n",
              "      <td>0.000000</td>\n",
              "      <td>3.000000</td>\n",
              "      <td>0.000000</td>\n",
              "      <td>10.000000</td>\n",
              "      <td>1.000000</td>\n",
              "      <td>0.267454</td>\n",
              "      <td>0.272727</td>\n",
              "      <td>0.000000</td>\n",
              "      <td>0.546000</td>\n",
              "    </tr>\n",
              "    <tr>\n",
              "      <th>50%</th>\n",
              "      <td>183.000000</td>\n",
              "      <td>2013.000000</td>\n",
              "      <td>0.255000</td>\n",
              "      <td>79.000000</td>\n",
              "      <td>163.000000</td>\n",
              "      <td>21.000000</td>\n",
              "      <td>40.000000</td>\n",
              "      <td>7.000000</td>\n",
              "      <td>0.000000</td>\n",
              "      <td>2.000000</td>\n",
              "      <td>56.000000</td>\n",
              "      <td>17.000000</td>\n",
              "      <td>2.000000</td>\n",
              "      <td>1.000000</td>\n",
              "      <td>14.000000</td>\n",
              "      <td>2.000000</td>\n",
              "      <td>33.000000</td>\n",
              "      <td>3.000000</td>\n",
              "      <td>0.360124</td>\n",
              "      <td>0.328592</td>\n",
              "      <td>2.000000</td>\n",
              "      <td>0.688637</td>\n",
              "    </tr>\n",
              "    <tr>\n",
              "      <th>75%</th>\n",
              "      <td>265.000000</td>\n",
              "      <td>2016.000000</td>\n",
              "      <td>0.291000</td>\n",
              "      <td>115.000000</td>\n",
              "      <td>357.500000</td>\n",
              "      <td>49.000000</td>\n",
              "      <td>100.000000</td>\n",
              "      <td>16.000000</td>\n",
              "      <td>1.000000</td>\n",
              "      <td>8.000000</td>\n",
              "      <td>146.000000</td>\n",
              "      <td>44.000000</td>\n",
              "      <td>6.000000</td>\n",
              "      <td>3.000000</td>\n",
              "      <td>34.000000</td>\n",
              "      <td>5.000000</td>\n",
              "      <td>60.000000</td>\n",
              "      <td>7.000000</td>\n",
              "      <td>0.436000</td>\n",
              "      <td>0.367000</td>\n",
              "      <td>5.000000</td>\n",
              "      <td>0.797234</td>\n",
              "    </tr>\n",
              "    <tr>\n",
              "      <th>max</th>\n",
              "      <td>344.000000</td>\n",
              "      <td>2018.000000</td>\n",
              "      <td>1.000000</td>\n",
              "      <td>144.000000</td>\n",
              "      <td>600.000000</td>\n",
              "      <td>135.000000</td>\n",
              "      <td>201.000000</td>\n",
              "      <td>47.000000</td>\n",
              "      <td>17.000000</td>\n",
              "      <td>53.000000</td>\n",
              "      <td>377.000000</td>\n",
              "      <td>146.000000</td>\n",
              "      <td>84.000000</td>\n",
              "      <td>21.000000</td>\n",
              "      <td>108.000000</td>\n",
              "      <td>27.000000</td>\n",
              "      <td>161.000000</td>\n",
              "      <td>24.000000</td>\n",
              "      <td>3.000000</td>\n",
              "      <td>1.000000</td>\n",
              "      <td>30.000000</td>\n",
              "      <td>4.000000</td>\n",
              "    </tr>\n",
              "  </tbody>\n",
              "</table>\n",
              "</div>"
            ],
            "text/plain": [
              "         batter_id         year  ...            E          OPS\n",
              "count  2454.000000  2454.000000  ...  2454.000000  2428.000000\n",
              "mean    178.079462  2011.614507  ...     3.676447     0.649939\n",
              "std      97.557947     4.992833  ...     4.585248     0.261634\n",
              "min       0.000000  1993.000000  ...     0.000000     0.000000\n",
              "25%     101.250000  2008.000000  ...     0.000000     0.546000\n",
              "50%     183.000000  2013.000000  ...     2.000000     0.688637\n",
              "75%     265.000000  2016.000000  ...     5.000000     0.797234\n",
              "max     344.000000  2018.000000  ...    30.000000     4.000000\n",
              "\n",
              "[8 rows x 22 columns]"
            ]
          },
          "metadata": {
            "tags": []
          }
        }
      ]
    },
    {
      "cell_type": "code",
      "metadata": {
        "colab": {
          "base_uri": "https://localhost:8080/",
          "height": 657
        },
        "id": "F8TRn8McO5Ic",
        "outputId": "02d438e5-a0e0-4ffc-ab5e-bd6e9666c66e"
      },
      "source": [
        "regular_season_df.hist(figsize=(10,9))\n",
        "plt.tight_layout() #그래프 간격 설정\n",
        "plt.show()"
      ],
      "execution_count": null,
      "outputs": [
        {
          "output_type": "display_data",
          "data": {
            "image/png": "[encoded data removed]",
            "text/plain": [
              "<Figure size 720x648 with 25 Axes>"
            ]
          },
          "metadata": {
            "tags": [],
            "needs_background": "light"
          }
        }
      ]
    },
    {
      "cell_type": "code",
      "metadata": {
        "colab": {
          "base_uri": "https://localhost:8080/",
          "height": 411
        },
        "id": "Y_bunUYePL7n",
        "outputId": "d8c69480-305c-40f4-9abb-55c79665a9e5"
      },
      "source": [
        "plt.figure(figsize=(15,6)) # 그래프 크기 조정\n",
        "plt.subplot(1,2,1) # 1행 2열의 첫 번째(1행 1열) 그래프\n",
        "g = sns.boxplot(x = 'year', y = 'OPS' , data = regular_season_df, showfliers = False)\n",
        "g.set_title ('OPS boxplot', size =20)\n",
        "g.set_xticklabels(g.get_xticklabels(),rotation = 90)\n",
        "plt.subplot(1,2,2)\n",
        "plt.plot(regular_season_df.groupby('year')['OPS'].median())\n",
        "plt.title('OPS median', size = 20)\n",
        "plt.show()"
      ],
      "execution_count": null,
      "outputs": [
        {
          "output_type": "display_data",
          "data": {
            "image/png": "[encoded data removed]",
            "text/plain": [
              "<Figure size 1080x432 with 2 Axes>"
            ]
          },
          "metadata": {
            "tags": [],
            "needs_background": "light"
          }
        }
      ]
    },
    {
      "cell_type": "code",
      "metadata": {
        "colab": {
          "base_uri": "https://localhost:8080/",
          "height": 131
        },
        "id": "nslrun3HRJen",
        "outputId": "f1763ca3-9d34-4396-8f79-be3759150285"
      },
      "source": [
        "pd.crosstab(regular_season_df['year'],'count').T"
      ],
      "execution_count": null,
      "outputs": [
        {
          "output_type": "execute_result",
          "data": {
            "text/html": [
              "<div>\n",
              "<style scoped>\n",
              "    .dataframe tbody tr th:only-of-type {\n",
              "        vertical-align: middle;\n",
              "    }\n",
              "\n",
              "    .dataframe tbody tr th {\n",
              "        vertical-align: top;\n",
              "    }\n",
              "\n",
              "    .dataframe thead th {\n",
              "        text-align: right;\n",
              "    }\n",
              "</style>\n",
              "<table border=\"1\" class=\"dataframe\">\n",
              "  <thead>\n",
              "    <tr style=\"text-align: right;\">\n",
              "      <th>year</th>\n",
              "      <th>1993</th>\n",
              "      <th>1994</th>\n",
              "      <th>1995</th>\n",
              "      <th>1996</th>\n",
              "      <th>1997</th>\n",
              "      <th>1998</th>\n",
              "      <th>1999</th>\n",
              "      <th>2000</th>\n",
              "      <th>2001</th>\n",
              "      <th>2002</th>\n",
              "      <th>2003</th>\n",
              "      <th>2004</th>\n",
              "      <th>2005</th>\n",
              "      <th>2006</th>\n",
              "      <th>2007</th>\n",
              "      <th>2008</th>\n",
              "      <th>2009</th>\n",
              "      <th>2010</th>\n",
              "      <th>2011</th>\n",
              "      <th>2012</th>\n",
              "      <th>2013</th>\n",
              "      <th>2014</th>\n",
              "      <th>2015</th>\n",
              "      <th>2016</th>\n",
              "      <th>2017</th>\n",
              "      <th>2018</th>\n",
              "    </tr>\n",
              "    <tr>\n",
              "      <th>col_0</th>\n",
              "      <th></th>\n",
              "      <th></th>\n",
              "      <th></th>\n",
              "      <th></th>\n",
              "      <th></th>\n",
              "      <th></th>\n",
              "      <th></th>\n",
              "      <th></th>\n",
              "      <th></th>\n",
              "      <th></th>\n",
              "      <th></th>\n",
              "      <th></th>\n",
              "      <th></th>\n",
              "      <th></th>\n",
              "      <th></th>\n",
              "      <th></th>\n",
              "      <th></th>\n",
              "      <th></th>\n",
              "      <th></th>\n",
              "      <th></th>\n",
              "      <th></th>\n",
              "      <th></th>\n",
              "      <th></th>\n",
              "      <th></th>\n",
              "      <th></th>\n",
              "      <th></th>\n",
              "    </tr>\n",
              "  </thead>\n",
              "  <tbody>\n",
              "    <tr>\n",
              "      <th>count</th>\n",
              "      <td>1</td>\n",
              "      <td>2</td>\n",
              "      <td>1</td>\n",
              "      <td>7</td>\n",
              "      <td>8</td>\n",
              "      <td>10</td>\n",
              "      <td>14</td>\n",
              "      <td>20</td>\n",
              "      <td>32</td>\n",
              "      <td>43</td>\n",
              "      <td>54</td>\n",
              "      <td>68</td>\n",
              "      <td>73</td>\n",
              "      <td>85</td>\n",
              "      <td>98</td>\n",
              "      <td>115</td>\n",
              "      <td>124</td>\n",
              "      <td>130</td>\n",
              "      <td>151</td>\n",
              "      <td>174</td>\n",
              "      <td>194</td>\n",
              "      <td>186</td>\n",
              "      <td>207</td>\n",
              "      <td>213</td>\n",
              "      <td>217</td>\n",
              "      <td>227</td>\n",
              "    </tr>\n",
              "  </tbody>\n",
              "</table>\n",
              "</div>"
            ],
            "text/plain": [
              "year   1993  1994  1995  1996  1997  1998  ...  2013  2014  2015  2016  2017  2018\n",
              "col_0                                      ...                                    \n",
              "count     1     2     1     7     8    10  ...   194   186   207   213   217   227\n",
              "\n",
              "[1 rows x 26 columns]"
            ]
          },
          "metadata": {
            "tags": []
          },
          "execution_count": 27
        }
      ]
    },
    {
      "cell_type": "markdown",
      "metadata": {
        "id": "2ayNN3MsRY4P"
      },
      "source": [
        "OPS가 2000년대 이전에는 큰 변동이 있지만 그 이후에는 크지않다. 2000년 이전에는 데이터가 부족함을 확인할 수 있다.그것 때문에 변동폭이 컸던 것일 수도 있다."
      ]
    },
    {
      "cell_type": "code",
      "metadata": {
        "colab": {
          "base_uri": "https://localhost:8080/",
          "height": 1000
        },
        "id": "Z189uQkARrh6",
        "outputId": "ae5d94a2-ba5b-46e6-b0a7-96a8bcbaae69"
      },
      "source": [
        "# 연도별 팀의 OPS 중앙값 계산\n",
        "med_OPS_team = regular_season_df.pivot_table(index=['team'], columns= 'year', values= 'OPS', aggfunc='median')\n",
        "\n",
        "# 2005년 이후에 결측치가 존재하지 않는 팀만 확인\n",
        "team_idx = med_OPS_team.loc[:,2005:].isna().sum(axis = 1) <= 0\n",
        "\n",
        "plt.plot(med_OPS_team.loc[team_idx, 2005:].T)\n",
        "plt.legend(med_OPS_team.loc[team_idx, 2005:].T.columns,loc = 'center left', bbox_to_anchor = (1,0.5)) # 그래프 범례를 그래프 밖에 위치\n",
        "plt.title('팀별 성적')\n",
        "plt.show()"
      ],
      "execution_count": null,
      "outputs": [
        {
          "output_type": "stream",
          "text": [
            "/usr/local/lib/python3.7/dist-packages/matplotlib/backends/backend_agg.py:214: RuntimeWarning: Glyph 54016 missing from current font.\n",
            "  font.set_text(s, 0.0, flags=flags)\n",
            "/usr/local/lib/python3.7/dist-packages/matplotlib/backends/backend_agg.py:214: RuntimeWarning: Glyph 48324 missing from current font.\n",
            "  font.set_text(s, 0.0, flags=flags)\n",
            "/usr/local/lib/python3.7/dist-packages/matplotlib/backends/backend_agg.py:214: RuntimeWarning: Glyph 49457 missing from current font.\n",
            "  font.set_text(s, 0.0, flags=flags)\n",
            "/usr/local/lib/python3.7/dist-packages/matplotlib/backends/backend_agg.py:214: RuntimeWarning: Glyph 51201 missing from current font.\n",
            "  font.set_text(s, 0.0, flags=flags)\n",
            "/usr/local/lib/python3.7/dist-packages/matplotlib/backends/backend_agg.py:214: RuntimeWarning: Glyph 46160 missing from current font.\n",
            "  font.set_text(s, 0.0, flags=flags)\n",
            "/usr/local/lib/python3.7/dist-packages/matplotlib/backends/backend_agg.py:214: RuntimeWarning: Glyph 49328 missing from current font.\n",
            "  font.set_text(s, 0.0, flags=flags)\n",
            "/usr/local/lib/python3.7/dist-packages/matplotlib/backends/backend_agg.py:214: RuntimeWarning: Glyph 47215 missing from current font.\n",
            "  font.set_text(s, 0.0, flags=flags)\n",
            "/usr/local/lib/python3.7/dist-packages/matplotlib/backends/backend_agg.py:214: RuntimeWarning: Glyph 45936 missing from current font.\n",
            "  font.set_text(s, 0.0, flags=flags)\n",
            "/usr/local/lib/python3.7/dist-packages/matplotlib/backends/backend_agg.py:214: RuntimeWarning: Glyph 49340 missing from current font.\n",
            "  font.set_text(s, 0.0, flags=flags)\n",
            "/usr/local/lib/python3.7/dist-packages/matplotlib/backends/backend_agg.py:214: RuntimeWarning: Glyph 54620 missing from current font.\n",
            "  font.set_text(s, 0.0, flags=flags)\n",
            "/usr/local/lib/python3.7/dist-packages/matplotlib/backends/backend_agg.py:214: RuntimeWarning: Glyph 54868 missing from current font.\n",
            "  font.set_text(s, 0.0, flags=flags)\n",
            "/usr/local/lib/python3.7/dist-packages/matplotlib/backends/backend_agg.py:183: RuntimeWarning: Glyph 54016 missing from current font.\n",
            "  font.set_text(s, 0, flags=flags)\n",
            "/usr/local/lib/python3.7/dist-packages/matplotlib/backends/backend_agg.py:183: RuntimeWarning: Glyph 48324 missing from current font.\n",
            "  font.set_text(s, 0, flags=flags)\n",
            "/usr/local/lib/python3.7/dist-packages/matplotlib/backends/backend_agg.py:183: RuntimeWarning: Glyph 49457 missing from current font.\n",
            "  font.set_text(s, 0, flags=flags)\n",
            "/usr/local/lib/python3.7/dist-packages/matplotlib/backends/backend_agg.py:183: RuntimeWarning: Glyph 51201 missing from current font.\n",
            "  font.set_text(s, 0, flags=flags)\n",
            "/usr/local/lib/python3.7/dist-packages/matplotlib/backends/backend_agg.py:183: RuntimeWarning: Glyph 46160 missing from current font.\n",
            "  font.set_text(s, 0, flags=flags)\n",
            "/usr/local/lib/python3.7/dist-packages/matplotlib/backends/backend_agg.py:183: RuntimeWarning: Glyph 49328 missing from current font.\n",
            "  font.set_text(s, 0, flags=flags)\n",
            "/usr/local/lib/python3.7/dist-packages/matplotlib/backends/backend_agg.py:183: RuntimeWarning: Glyph 47215 missing from current font.\n",
            "  font.set_text(s, 0, flags=flags)\n",
            "/usr/local/lib/python3.7/dist-packages/matplotlib/backends/backend_agg.py:183: RuntimeWarning: Glyph 45936 missing from current font.\n",
            "  font.set_text(s, 0, flags=flags)\n",
            "/usr/local/lib/python3.7/dist-packages/matplotlib/backends/backend_agg.py:183: RuntimeWarning: Glyph 49340 missing from current font.\n",
            "  font.set_text(s, 0, flags=flags)\n",
            "/usr/local/lib/python3.7/dist-packages/matplotlib/backends/backend_agg.py:183: RuntimeWarning: Glyph 54620 missing from current font.\n",
            "  font.set_text(s, 0, flags=flags)\n",
            "/usr/local/lib/python3.7/dist-packages/matplotlib/backends/backend_agg.py:183: RuntimeWarning: Glyph 54868 missing from current font.\n",
            "  font.set_text(s, 0, flags=flags)\n"
          ],
          "name": "stderr"
        },
        {
          "output_type": "display_data",
          "data": {
            "image/png": "[encoded data removed]",
            "text/plain": [
              "<Figure size 432x288 with 1 Axes>"
            ]
          },
          "metadata": {
            "tags": [],
            "needs_background": "light"
          }
        }
      ]
    },
    {
      "cell_type": "markdown",
      "metadata": {
        "id": "UzwOt6efq7ef"
      },
      "source": [
        "신생팀이 아닌, 과거에 데이터를 갖고있는 팀들을 대상으로 연도별 팀 성적을 비교 -> 성적이 계속 변화되고 순위도 변동이 있다."
      ]
    },
    {
      "cell_type": "markdown",
      "metadata": {
        "id": "eaQbBaxsrRaK"
      },
      "source": [
        "## 키와 몸무게의 성적 연관성"
      ]
    },
    {
      "cell_type": "code",
      "metadata": {
        "colab": {
          "base_uri": "https://localhost:8080/"
        },
        "id": "tZOSDdM-p1Nh",
        "outputId": "00f9ddaf-15c5-41f7-edb8-7894b3989e59"
      },
      "source": [
        "import re\n",
        "\n",
        "# 무게 index 생성\n",
        "regular_season_df['weight'] = regular_season_df['height/weight'].apply(lambda x : int(re.findall('\\d+', x.split('/')[1])[0]) if pd.notnull(x) else x)\n",
        "\n",
        "# 키 index 생성\n",
        "regular_season_df['height'] = regular_season_df['height/weight'].apply(lambda x : int(re.findall('\\d+', x.split('/')[0])[0]) if pd.notnull(x) else x)\n",
        "\n",
        "print(regular_season_df['height/weight'][0], regular_season_df['height'], regular_season_df['weight'])"
      ],
      "execution_count": null,
      "outputs": [
        {
          "output_type": "stream",
          "text": [
            "177cm/93kg 0       177.0\n",
            "1       180.0\n",
            "2       180.0\n",
            "3       180.0\n",
            "4       180.0\n",
            "        ...  \n",
            "2449    181.0\n",
            "2450    181.0\n",
            "2451    181.0\n",
            "2452    181.0\n",
            "2453    181.0\n",
            "Name: height, Length: 2454, dtype: float64 0       93.0\n",
            "1       72.0\n",
            "2       72.0\n",
            "3       72.0\n",
            "4       72.0\n",
            "        ... \n",
            "2449    82.0\n",
            "2450    82.0\n",
            "2451    82.0\n",
            "2452    82.0\n",
            "2453    82.0\n",
            "Name: weight, Length: 2454, dtype: float64\n"
          ],
          "name": "stdout"
        }
      ]
    },
    {
      "cell_type": "code",
      "metadata": {
        "colab": {
          "base_uri": "https://localhost:8080/",
          "height": 1000
        },
        "id": "xXDJAfbsrtk5",
        "outputId": "426c0a8d-fbaf-447e-f9fa-922cf6580648"
      },
      "source": [
        "# 몸무게 / 키 -> 이 값이 크면 무게가 많이 나가는 것\n",
        "# 낮으면 빠르고 높으면 힘이 강하다 -> 작으면 출루율 상승, 크면 장타율 상승\n",
        "\n",
        "regular_season_df['weight per height'] = regular_season_df['weight'] / regular_season_df['height']\n",
        "\n",
        "plt.figure(figsize = (15,5)) # 그래프 크기 조정\n",
        "plt.subplot(1,2,1) # 1행 2열의 첫번째 그래프\n",
        "\n",
        "# 정규시즌과 프리시즌의 OBP 상관관계 계산\n",
        "correlation = regular_season_df['weight per height'].corr(regular_season_df['OBP'])\n",
        "sns.scatterplot(regular_season_df['weight per height'], regular_season_df['OBP'])\n",
        "\n",
        "plt.title(\"'몸무게 / 키'와 OBP correlation(상관관계) : \" + str(np.round(correlation,2)), fontsize = 20)\n",
        "plt.ylabel('정규시즌 OBP' , fontsize = 12)\n",
        "plt.xlabel('몸무게 / 키', fontsize = 12)\n",
        "\n",
        "# SLG 상관관계\n",
        "plt.subplot(1,2,2)\n",
        "\n",
        "correlation = regular_season_df['weight per height'].corr(regular_season_df['SLG'])\n",
        "sns.scatterplot(regular_season_df['weight per height'], regular_season_df['SLG'])\n",
        "\n",
        "plt.title(\"'몸무게 / 키'와 SLG correlation(상관관계) : \" + str(np.round(correlation,2)), fontsize = 20)\n",
        "plt.ylabel('정규시즌 SLG' , fontsize = 12)\n",
        "plt.xlabel('몸무게 / 키', fontsize = 12)\n",
        "plt.show()"
      ],
      "execution_count": null,
      "outputs": [
        {
          "output_type": "stream",
          "text": [
            "/usr/local/lib/python3.7/dist-packages/seaborn/_decorators.py:43: FutureWarning: Pass the following variables as keyword args: x, y. From version 0.12, the only valid positional argument will be `data`, and passing other arguments without an explicit keyword will result in an error or misinterpretation.\n",
            "  FutureWarning\n",
            "/usr/local/lib/python3.7/dist-packages/seaborn/_decorators.py:43: FutureWarning: Pass the following variables as keyword args: x, y. From version 0.12, the only valid positional argument will be `data`, and passing other arguments without an explicit keyword will result in an error or misinterpretation.\n",
            "  FutureWarning\n",
            "/usr/local/lib/python3.7/dist-packages/matplotlib/backends/backend_agg.py:214: RuntimeWarning: Glyph 47800 missing from current font.\n",
            "  font.set_text(s, 0.0, flags=flags)\n",
            "/usr/local/lib/python3.7/dist-packages/matplotlib/backends/backend_agg.py:214: RuntimeWarning: Glyph 47924 missing from current font.\n",
            "  font.set_text(s, 0.0, flags=flags)\n",
            "/usr/local/lib/python3.7/dist-packages/matplotlib/backends/backend_agg.py:214: RuntimeWarning: Glyph 44172 missing from current font.\n",
            "  font.set_text(s, 0.0, flags=flags)\n",
            "/usr/local/lib/python3.7/dist-packages/matplotlib/backends/backend_agg.py:214: RuntimeWarning: Glyph 53412 missing from current font.\n",
            "  font.set_text(s, 0.0, flags=flags)\n",
            "/usr/local/lib/python3.7/dist-packages/matplotlib/backends/backend_agg.py:214: RuntimeWarning: Glyph 50752 missing from current font.\n",
            "  font.set_text(s, 0.0, flags=flags)\n",
            "/usr/local/lib/python3.7/dist-packages/matplotlib/backends/backend_agg.py:214: RuntimeWarning: Glyph 49345 missing from current font.\n",
            "  font.set_text(s, 0.0, flags=flags)\n",
            "/usr/local/lib/python3.7/dist-packages/matplotlib/backends/backend_agg.py:214: RuntimeWarning: Glyph 44288 missing from current font.\n",
            "  font.set_text(s, 0.0, flags=flags)\n",
            "/usr/local/lib/python3.7/dist-packages/matplotlib/backends/backend_agg.py:214: RuntimeWarning: Glyph 44228 missing from current font.\n",
            "  font.set_text(s, 0.0, flags=flags)\n",
            "/usr/local/lib/python3.7/dist-packages/matplotlib/backends/backend_agg.py:214: RuntimeWarning: Glyph 51221 missing from current font.\n",
            "  font.set_text(s, 0.0, flags=flags)\n",
            "/usr/local/lib/python3.7/dist-packages/matplotlib/backends/backend_agg.py:214: RuntimeWarning: Glyph 44508 missing from current font.\n",
            "  font.set_text(s, 0.0, flags=flags)\n",
            "/usr/local/lib/python3.7/dist-packages/matplotlib/backends/backend_agg.py:214: RuntimeWarning: Glyph 49884 missing from current font.\n",
            "  font.set_text(s, 0.0, flags=flags)\n",
            "/usr/local/lib/python3.7/dist-packages/matplotlib/backends/backend_agg.py:214: RuntimeWarning: Glyph 51596 missing from current font.\n",
            "  font.set_text(s, 0.0, flags=flags)\n",
            "/usr/local/lib/python3.7/dist-packages/matplotlib/backends/backend_agg.py:183: RuntimeWarning: Glyph 47800 missing from current font.\n",
            "  font.set_text(s, 0, flags=flags)\n",
            "/usr/local/lib/python3.7/dist-packages/matplotlib/backends/backend_agg.py:183: RuntimeWarning: Glyph 47924 missing from current font.\n",
            "  font.set_text(s, 0, flags=flags)\n",
            "/usr/local/lib/python3.7/dist-packages/matplotlib/backends/backend_agg.py:183: RuntimeWarning: Glyph 44172 missing from current font.\n",
            "  font.set_text(s, 0, flags=flags)\n",
            "/usr/local/lib/python3.7/dist-packages/matplotlib/backends/backend_agg.py:183: RuntimeWarning: Glyph 53412 missing from current font.\n",
            "  font.set_text(s, 0, flags=flags)\n",
            "/usr/local/lib/python3.7/dist-packages/matplotlib/backends/backend_agg.py:183: RuntimeWarning: Glyph 51221 missing from current font.\n",
            "  font.set_text(s, 0, flags=flags)\n",
            "/usr/local/lib/python3.7/dist-packages/matplotlib/backends/backend_agg.py:183: RuntimeWarning: Glyph 44508 missing from current font.\n",
            "  font.set_text(s, 0, flags=flags)\n",
            "/usr/local/lib/python3.7/dist-packages/matplotlib/backends/backend_agg.py:183: RuntimeWarning: Glyph 49884 missing from current font.\n",
            "  font.set_text(s, 0, flags=flags)\n",
            "/usr/local/lib/python3.7/dist-packages/matplotlib/backends/backend_agg.py:183: RuntimeWarning: Glyph 51596 missing from current font.\n",
            "  font.set_text(s, 0, flags=flags)\n",
            "/usr/local/lib/python3.7/dist-packages/matplotlib/backends/backend_agg.py:183: RuntimeWarning: Glyph 50752 missing from current font.\n",
            "  font.set_text(s, 0, flags=flags)\n",
            "/usr/local/lib/python3.7/dist-packages/matplotlib/backends/backend_agg.py:183: RuntimeWarning: Glyph 49345 missing from current font.\n",
            "  font.set_text(s, 0, flags=flags)\n",
            "/usr/local/lib/python3.7/dist-packages/matplotlib/backends/backend_agg.py:183: RuntimeWarning: Glyph 44288 missing from current font.\n",
            "  font.set_text(s, 0, flags=flags)\n",
            "/usr/local/lib/python3.7/dist-packages/matplotlib/backends/backend_agg.py:183: RuntimeWarning: Glyph 44228 missing from current font.\n",
            "  font.set_text(s, 0, flags=flags)\n"
          ],
          "name": "stderr"
        },
        {
          "output_type": "display_data",
          "data": {
            "image/png": "[encoded data removed]",
            "text/plain": [
              "<Figure size 1080x360 with 2 Axes>"
            ]
          },
          "metadata": {
            "tags": [],
            "needs_background": "light"
          }
        }
      ]
    },
    {
      "cell_type": "markdown",
      "metadata": {
        "id": "ODOCRzWBu0uE"
      },
      "source": [
        "몸무게와 키는 장타율이나 출루율에는 크게 영향을 미치지않는다."
      ]
    },
    {
      "cell_type": "code",
      "metadata": {
        "colab": {
          "base_uri": "https://localhost:8080/"
        },
        "id": "JCvZa-pbua0t",
        "outputId": "9bf40d7a-e540-4acb-f581-394089a2594b"
      },
      "source": [
        "regular_season_df['position'].value_counts()"
      ],
      "execution_count": null,
      "outputs": [
        {
          "output_type": "execute_result",
          "data": {
            "text/plain": [
              "내야수(우투우타)    643\n",
              "외야수(우투우타)    230\n",
              "외야수(좌투좌타)    201\n",
              "포수(우투우타)     189\n",
              "외야수(우투좌타)    184\n",
              "내야수(우투좌타)    141\n",
              "내야수(좌투좌타)     36\n",
              "포수(우투좌타)      14\n",
              "내야수(우투양타)      7\n",
              "외야수(우투양타)      7\n",
              "Name: position, dtype: int64"
            ]
          },
          "metadata": {
            "tags": []
          },
          "execution_count": 31
        }
      ]
    },
    {
      "cell_type": "code",
      "metadata": {
        "colab": {
          "base_uri": "https://localhost:8080/"
        },
        "id": "DOPnGNRtu_3X",
        "outputId": "3370fab4-af39-4f9c-d0b3-27bdb074253d"
      },
      "source": [
        "# position\n",
        "regular_season_df['pos'] = regular_season_df['position'].apply(lambda x : x.split('(')[0] if pd.notnull(x) else x)\n",
        "\n",
        "# 우타,좌타,양타\n",
        "regular_season_df['hit_way'] = regular_season_df['position'].apply(lambda x : x[-3:-1] if pd.notnull(x) else x)\n",
        "\n",
        "print(regular_season_df['position'][0], regular_season_df['pos'][0], regular_season_df['hit_way'][0])"
      ],
      "execution_count": null,
      "outputs": [
        {
          "output_type": "stream",
          "text": [
            "내야수(우투우타) 내야수 우타\n"
          ],
          "name": "stdout"
        }
      ]
    },
    {
      "cell_type": "markdown",
      "metadata": {
        "id": "6TgBnVxUxgvY"
      },
      "source": [
        "수비 포지션과 왼손잡이인지 오른손 잡이인지 구분\n"
      ]
    },
    {
      "cell_type": "code",
      "metadata": {
        "colab": {
          "base_uri": "https://localhost:8080/",
          "height": 1000
        },
        "id": "Eq_PH_R9xRRO",
        "outputId": "2d97d551-bfbf-4ba6-eb58-582d0f8c6af8"
      },
      "source": [
        "plt.figure(figsize = (15,5)) # 그래프 크기 조정\n",
        "plt.subplot(1,2,1)\n",
        "ax = sns.boxplot(x= 'pos', y = 'OPS', data = regular_season_df, showfliers = False)\n",
        "\n",
        "# position별 OPS 중앙값 -> dict 변환\n",
        "medians = regular_season_df.groupby(['pos'])['OPS'].median().to_dict()\n",
        "\n",
        "# position별 관측치 수\n",
        "nobs = regular_season_df['pos'].value_counts().to_dict()\n",
        "\n",
        "# 키 값을 'n: 값' 형식으로 변환\n",
        "for key in nobs : nobs[key] = \"n : \" + str(nobs[key])\n",
        "\n",
        "# 그래프의 Xticks text 값 얻기\n",
        "xticks_labels = [item.get_text() for item in ax.get_xticklabels()]\n",
        "\n",
        "# tick은 tick의 위치, label은 그에 해당하는 text 값\n",
        "for label in ax.get_xticklabels():\n",
        "  ax.text(xticks_labels.index(label.get_text()),medians[label.get_text()] + 0.03, nobs[label.get_text()], horizontalalignment = 'center', size = 'large', color = 'w', weight = 'semibold')\n",
        "\n",
        "ax.set_title('포지션별 OPS')\n",
        "\n",
        "plt.subplot(1,2,2)\n",
        "\n",
        "ax = sns.boxplot(x='hit_way', y = 'OPS', data = regular_season_df, showfliers = False)\n",
        "\n",
        "# 타자 방향별 OPS 중앙값 -> dict로 변환\n",
        "medians = regular_season_df.groupby(['hit_way'])['OPS'].median().to_dict()\n",
        "\n",
        "# 타자 방향 관ㄴ측치 수\n",
        "nobs = regular_season_df['hit_way'].value_counts().to_dict()\n",
        "\n",
        "# 키 값을 'n: 값' 형식으로 변환\n",
        "for key in nobs : nobs[key] = \"n : \" + str(nobs[key])\n",
        "\n",
        "# 그래프의 Xticks text 값 얻기\n",
        "xticks_labels = [item.get_text() for item in ax.get_xticklabels()]\n",
        "\n",
        "# tick은 tick의 위치, label은 그에 해당하는 text 값\n",
        "for label in ax.get_xticklabels():\n",
        "  ax.text(xticks_labels.index(label.get_text()),medians[label.get_text()] + 0.03, nobs[label.get_text()], horizontalalignment = 'center', size = 'large', color = 'w', weight = 'semibold')\n",
        "\n",
        "ax.set_title('타석방향별 OPS')\n"
      ],
      "execution_count": null,
      "outputs": [
        {
          "output_type": "execute_result",
          "data": {
            "text/plain": [
              "Text(0.5, 1.0, '타석방향별 OPS')"
            ]
          },
          "metadata": {
            "tags": []
          },
          "execution_count": 33
        },
        {
          "output_type": "stream",
          "text": [
            "/usr/local/lib/python3.7/dist-packages/matplotlib/backends/backend_agg.py:214: RuntimeWarning: Glyph 54252 missing from current font.\n",
            "  font.set_text(s, 0.0, flags=flags)\n",
            "/usr/local/lib/python3.7/dist-packages/matplotlib/backends/backend_agg.py:214: RuntimeWarning: Glyph 51648 missing from current font.\n",
            "  font.set_text(s, 0.0, flags=flags)\n",
            "/usr/local/lib/python3.7/dist-packages/matplotlib/backends/backend_agg.py:214: RuntimeWarning: Glyph 49496 missing from current font.\n",
            "  font.set_text(s, 0.0, flags=flags)\n",
            "/usr/local/lib/python3.7/dist-packages/matplotlib/backends/backend_agg.py:214: RuntimeWarning: Glyph 48324 missing from current font.\n",
            "  font.set_text(s, 0.0, flags=flags)\n",
            "/usr/local/lib/python3.7/dist-packages/matplotlib/backends/backend_agg.py:214: RuntimeWarning: Glyph 45236 missing from current font.\n",
            "  font.set_text(s, 0.0, flags=flags)\n",
            "/usr/local/lib/python3.7/dist-packages/matplotlib/backends/backend_agg.py:214: RuntimeWarning: Glyph 50556 missing from current font.\n",
            "  font.set_text(s, 0.0, flags=flags)\n",
            "/usr/local/lib/python3.7/dist-packages/matplotlib/backends/backend_agg.py:214: RuntimeWarning: Glyph 49688 missing from current font.\n",
            "  font.set_text(s, 0.0, flags=flags)\n",
            "/usr/local/lib/python3.7/dist-packages/matplotlib/backends/backend_agg.py:214: RuntimeWarning: Glyph 50808 missing from current font.\n",
            "  font.set_text(s, 0.0, flags=flags)\n",
            "/usr/local/lib/python3.7/dist-packages/matplotlib/backends/backend_agg.py:183: RuntimeWarning: Glyph 45236 missing from current font.\n",
            "  font.set_text(s, 0, flags=flags)\n",
            "/usr/local/lib/python3.7/dist-packages/matplotlib/backends/backend_agg.py:183: RuntimeWarning: Glyph 50556 missing from current font.\n",
            "  font.set_text(s, 0, flags=flags)\n",
            "/usr/local/lib/python3.7/dist-packages/matplotlib/backends/backend_agg.py:183: RuntimeWarning: Glyph 49688 missing from current font.\n",
            "  font.set_text(s, 0, flags=flags)\n",
            "/usr/local/lib/python3.7/dist-packages/matplotlib/backends/backend_agg.py:183: RuntimeWarning: Glyph 50808 missing from current font.\n",
            "  font.set_text(s, 0, flags=flags)\n",
            "/usr/local/lib/python3.7/dist-packages/matplotlib/backends/backend_agg.py:183: RuntimeWarning: Glyph 54252 missing from current font.\n",
            "  font.set_text(s, 0, flags=flags)\n",
            "findfont: Font family ['NanumBarunGothic'] not found. Falling back to DejaVu Sans.\n",
            "/usr/local/lib/python3.7/dist-packages/matplotlib/backends/backend_agg.py:183: RuntimeWarning: Glyph 51648 missing from current font.\n",
            "  font.set_text(s, 0, flags=flags)\n",
            "/usr/local/lib/python3.7/dist-packages/matplotlib/backends/backend_agg.py:183: RuntimeWarning: Glyph 49496 missing from current font.\n",
            "  font.set_text(s, 0, flags=flags)\n",
            "/usr/local/lib/python3.7/dist-packages/matplotlib/backends/backend_agg.py:183: RuntimeWarning: Glyph 48324 missing from current font.\n",
            "  font.set_text(s, 0, flags=flags)\n",
            "/usr/local/lib/python3.7/dist-packages/matplotlib/backends/backend_agg.py:214: RuntimeWarning: Glyph 53440 missing from current font.\n",
            "  font.set_text(s, 0.0, flags=flags)\n",
            "/usr/local/lib/python3.7/dist-packages/matplotlib/backends/backend_agg.py:214: RuntimeWarning: Glyph 49437 missing from current font.\n",
            "  font.set_text(s, 0.0, flags=flags)\n",
            "/usr/local/lib/python3.7/dist-packages/matplotlib/backends/backend_agg.py:214: RuntimeWarning: Glyph 48169 missing from current font.\n",
            "  font.set_text(s, 0.0, flags=flags)\n",
            "/usr/local/lib/python3.7/dist-packages/matplotlib/backends/backend_agg.py:214: RuntimeWarning: Glyph 54693 missing from current font.\n",
            "  font.set_text(s, 0.0, flags=flags)\n",
            "/usr/local/lib/python3.7/dist-packages/matplotlib/backends/backend_agg.py:214: RuntimeWarning: Glyph 50864 missing from current font.\n",
            "  font.set_text(s, 0.0, flags=flags)\n",
            "/usr/local/lib/python3.7/dist-packages/matplotlib/backends/backend_agg.py:214: RuntimeWarning: Glyph 51340 missing from current font.\n",
            "  font.set_text(s, 0.0, flags=flags)\n",
            "/usr/local/lib/python3.7/dist-packages/matplotlib/backends/backend_agg.py:214: RuntimeWarning: Glyph 50577 missing from current font.\n",
            "  font.set_text(s, 0.0, flags=flags)\n",
            "/usr/local/lib/python3.7/dist-packages/matplotlib/backends/backend_agg.py:183: RuntimeWarning: Glyph 50864 missing from current font.\n",
            "  font.set_text(s, 0, flags=flags)\n",
            "/usr/local/lib/python3.7/dist-packages/matplotlib/backends/backend_agg.py:183: RuntimeWarning: Glyph 53440 missing from current font.\n",
            "  font.set_text(s, 0, flags=flags)\n",
            "/usr/local/lib/python3.7/dist-packages/matplotlib/backends/backend_agg.py:183: RuntimeWarning: Glyph 51340 missing from current font.\n",
            "  font.set_text(s, 0, flags=flags)\n",
            "/usr/local/lib/python3.7/dist-packages/matplotlib/backends/backend_agg.py:183: RuntimeWarning: Glyph 50577 missing from current font.\n",
            "  font.set_text(s, 0, flags=flags)\n",
            "/usr/local/lib/python3.7/dist-packages/matplotlib/backends/backend_agg.py:183: RuntimeWarning: Glyph 49437 missing from current font.\n",
            "  font.set_text(s, 0, flags=flags)\n",
            "/usr/local/lib/python3.7/dist-packages/matplotlib/backends/backend_agg.py:183: RuntimeWarning: Glyph 48169 missing from current font.\n",
            "  font.set_text(s, 0, flags=flags)\n",
            "/usr/local/lib/python3.7/dist-packages/matplotlib/backends/backend_agg.py:183: RuntimeWarning: Glyph 54693 missing from current font.\n",
            "  font.set_text(s, 0, flags=flags)\n"
          ],
          "name": "stderr"
        },
        {
          "output_type": "display_data",
          "data": {
            "image/png": "[encoded data removed]",
            "text/plain": [
              "<Figure size 1080x360 with 2 Axes>"
            ]
          },
          "metadata": {
            "tags": [],
            "needs_background": "light"
          }
        }
      ]
    },
    {
      "cell_type": "markdown",
      "metadata": {
        "id": "ZWnTBnF737S2"
      },
      "source": [
        "내야수와 외야수는 큰 차이가 없지만 포수는 조금 뒤처지는 모습을 보인다.\n"
      ]
    },
    {
      "cell_type": "markdown",
      "metadata": {
        "id": "hzefL1Bm8qlv"
      },
      "source": [
        "## 외국인 선수"
      ]
    },
    {
      "cell_type": "code",
      "metadata": {
        "colab": {
          "base_uri": "https://localhost:8080/"
        },
        "id": "uIqONsQOy3sG",
        "outputId": "ccbcbcb8-5822-4260-ce99-83c511fbde5f"
      },
      "source": [
        "regular_season_df['career'].head()"
      ],
      "execution_count": null,
      "outputs": [
        {
          "output_type": "execute_result",
          "data": {
            "text/plain": [
              "0    쿠바 Ciego de Avila Maximo Gomez Baez(대)\n",
              "1                         광주대성초-광주동성중-광주동성고\n",
              "2                         광주대성초-광주동성중-광주동성고\n",
              "3                         광주대성초-광주동성중-광주동성고\n",
              "4                         광주대성초-광주동성중-광주동성고\n",
              "Name: career, dtype: object"
            ]
          },
          "metadata": {
            "tags": []
          },
          "execution_count": 34
        }
      ]
    },
    {
      "cell_type": "code",
      "metadata": {
        "colab": {
          "base_uri": "https://localhost:8080/"
        },
        "id": "JWNeZK6k136d",
        "outputId": "fb4c3cd2-0ce7-4b99-f90b-5786bcc47888"
      },
      "source": [
        "# split\n",
        "foreign_country = regular_season_df['career'].apply(lambda x : x.replace('-', ' ').split(' ')[0])\n",
        "\n",
        "# 외국인만 추출\n",
        "foreign_country_list = list(set(foreign_country.apply(lambda x : np.nan if '초' in x else x)))\n",
        "\n",
        "# 결측치 처리\n",
        "foreign_country_list = [x for x in foreign_country_list if str(x) != 'nan']\n",
        "foreign_country_list"
      ],
      "execution_count": null,
      "outputs": [
        {
          "output_type": "execute_result",
          "data": {
            "text/plain": [
              "['네덜란드', '캐나다', '미국', '쿠바', '도미니카']"
            ]
          },
          "metadata": {
            "tags": []
          },
          "execution_count": 35
        }
      ]
    },
    {
      "cell_type": "code",
      "metadata": {
        "colab": {
          "base_uri": "https://localhost:8080/",
          "height": 204
        },
        "id": "75ysLmSN48Mi",
        "outputId": "c8cb3821-515f-4eb5-9022-15a8250fd235"
      },
      "source": [
        "regular_season_df['country'] = foreign_country\n",
        "regular_season_df['country'] = regular_season_df['country'].apply(lambda x : x if pd.isnull(x) else ('foreign' if x in foreign_country_list else 'korean'))\n",
        "\n",
        "regular_season_df[['country']].head()"
      ],
      "execution_count": null,
      "outputs": [
        {
          "output_type": "execute_result",
          "data": {
            "text/html": [
              "<div>\n",
              "<style scoped>\n",
              "    .dataframe tbody tr th:only-of-type {\n",
              "        vertical-align: middle;\n",
              "    }\n",
              "\n",
              "    .dataframe tbody tr th {\n",
              "        vertical-align: top;\n",
              "    }\n",
              "\n",
              "    .dataframe thead th {\n",
              "        text-align: right;\n",
              "    }\n",
              "</style>\n",
              "<table border=\"1\" class=\"dataframe\">\n",
              "  <thead>\n",
              "    <tr style=\"text-align: right;\">\n",
              "      <th></th>\n",
              "      <th>country</th>\n",
              "    </tr>\n",
              "  </thead>\n",
              "  <tbody>\n",
              "    <tr>\n",
              "      <th>0</th>\n",
              "      <td>foreign</td>\n",
              "    </tr>\n",
              "    <tr>\n",
              "      <th>1</th>\n",
              "      <td>korean</td>\n",
              "    </tr>\n",
              "    <tr>\n",
              "      <th>2</th>\n",
              "      <td>korean</td>\n",
              "    </tr>\n",
              "    <tr>\n",
              "      <th>3</th>\n",
              "      <td>korean</td>\n",
              "    </tr>\n",
              "    <tr>\n",
              "      <th>4</th>\n",
              "      <td>korean</td>\n",
              "    </tr>\n",
              "  </tbody>\n",
              "</table>\n",
              "</div>"
            ],
            "text/plain": [
              "   country\n",
              "0  foreign\n",
              "1   korean\n",
              "2   korean\n",
              "3   korean\n",
              "4   korean"
            ]
          },
          "metadata": {
            "tags": []
          },
          "execution_count": 36
        }
      ]
    },
    {
      "cell_type": "code",
      "metadata": {
        "colab": {
          "base_uri": "https://localhost:8080/",
          "height": 574
        },
        "id": "QEeGq9OA8FA-",
        "outputId": "b05b927b-c843-4e17-9cd0-3680dc53d4f0"
      },
      "source": [
        "plt.figure(figsize=(15,5))\n",
        "ax = sns.boxplot(x='country', y = 'OPS', data = regular_season_df, showfliers = False)\n",
        "\n",
        "# 타자 방향별 OPS 중앙값 -> dict로 변환\n",
        "medians = regular_season_df.groupby(['country'])['OPS'].median().to_dict()\n",
        "\n",
        "# 타자 방향 관ㄴ측치 수\n",
        "nobs = regular_season_df['country'].value_counts().to_dict()\n",
        "\n",
        "# 키 값을 'n: 값' 형식으로 변환\n",
        "for key in nobs : nobs[key] = \"n : \" + str(nobs[key])\n",
        "\n",
        "# 그래프의 Xticks text 값 얻기\n",
        "xticks_labels = [item.get_text() for item in ax.get_xticklabels()]\n",
        "\n",
        "# tick은 tick의 위치, label은 그에 해당하는 text 값\n",
        "for label in ax.get_xticklabels():\n",
        "  ax.text(xticks_labels.index(label.get_text()),medians[label.get_text()] + 0.03, nobs[label.get_text()], horizontalalignment = 'center', size = 'large', color = 'w', weight = 'semibold')\n",
        "\n",
        "ax.set_title('국적별 OPS')"
      ],
      "execution_count": null,
      "outputs": [
        {
          "output_type": "execute_result",
          "data": {
            "text/plain": [
              "Text(0.5, 1.0, '국적별 OPS')"
            ]
          },
          "metadata": {
            "tags": []
          },
          "execution_count": 37
        },
        {
          "output_type": "stream",
          "text": [
            "/usr/local/lib/python3.7/dist-packages/matplotlib/backends/backend_agg.py:214: RuntimeWarning: Glyph 44397 missing from current font.\n",
            "  font.set_text(s, 0.0, flags=flags)\n",
            "/usr/local/lib/python3.7/dist-packages/matplotlib/backends/backend_agg.py:214: RuntimeWarning: Glyph 51201 missing from current font.\n",
            "  font.set_text(s, 0.0, flags=flags)\n",
            "/usr/local/lib/python3.7/dist-packages/matplotlib/backends/backend_agg.py:214: RuntimeWarning: Glyph 48324 missing from current font.\n",
            "  font.set_text(s, 0.0, flags=flags)\n",
            "/usr/local/lib/python3.7/dist-packages/matplotlib/backends/backend_agg.py:183: RuntimeWarning: Glyph 44397 missing from current font.\n",
            "  font.set_text(s, 0, flags=flags)\n",
            "/usr/local/lib/python3.7/dist-packages/matplotlib/backends/backend_agg.py:183: RuntimeWarning: Glyph 51201 missing from current font.\n",
            "  font.set_text(s, 0, flags=flags)\n",
            "/usr/local/lib/python3.7/dist-packages/matplotlib/backends/backend_agg.py:183: RuntimeWarning: Glyph 48324 missing from current font.\n",
            "  font.set_text(s, 0, flags=flags)\n"
          ],
          "name": "stderr"
        },
        {
          "output_type": "display_data",
          "data": {
            "image/png": "[encoded data removed]",
            "text/plain": [
              "<Figure size 1080x360 with 1 Axes>"
            ]
          },
          "metadata": {
            "tags": [],
            "needs_background": "light"
          }
        }
      ]
    },
    {
      "cell_type": "markdown",
      "metadata": {
        "id": "s_KD5OGt9Yt6"
      },
      "source": [
        "외국인 선수들이 내국인 선수들보다 성적이 좋은 경향을 보인다."
      ]
    },
    {
      "cell_type": "markdown",
      "metadata": {
        "id": "tBmgxshR9oCZ"
      },
      "source": [
        "## 첫 연봉"
      ]
    },
    {
      "cell_type": "code",
      "metadata": {
        "colab": {
          "base_uri": "https://localhost:8080/"
        },
        "id": "TpXywy1b9XYi",
        "outputId": "04f24ef1-9d5e-454c-ffd2-42308cb0c8c2"
      },
      "source": [
        "regular_season_df['starting_salary'][0]"
      ],
      "execution_count": null,
      "outputs": [
        {
          "output_type": "execute_result",
          "data": {
            "text/plain": [
              "nan"
            ]
          },
          "metadata": {
            "tags": []
          },
          "execution_count": 38
        }
      ]
    },
    {
      "cell_type": "code",
      "metadata": {
        "colab": {
          "base_uri": "https://localhost:8080/",
          "height": 1000
        },
        "id": "XphPnoXl9tk4",
        "outputId": "64a2dee5-0725-49b6-fc3d-4d7b25aa45ab"
      },
      "source": [
        "# 결측치는 그대로 0 '만원'이 포함되어 있다면 숫자만 뽑아서 초봉으로\n",
        "# 만원 단위가 아니면 초봉은 결측치로 처리\n",
        "regular_season_df['starting_salary'] = regular_season_df['starting_salary'].apply(lambda x : x if pd.isnull(x) else (int(re.findall('\\d+', x)[0]) if '만원' in x else np.nan))\n",
        "\n",
        "plt.figure(figsize = (15,5))\n",
        "plt.subplot(1,2,1)\n",
        "\n",
        "b = sns.distplot(regular_season_df['starting_salary'].loc[regular_season_df['starting_salary'].notnull()], hist = True)\n",
        "b.set_xlabel(\"starting_salary\", fontsize = 12)\n",
        "b.set_title('초봉의 분포', fontsize = 20)\n",
        "\n",
        "plt.subplot(1,2,2)\n",
        "\n",
        "#정규시즌과 프리시즌의 상관관계 계산\n",
        "correlation = regular_season_df['starting_salary'].corr(regular_season_df['OPS'])\n",
        "b = sns.scatterplot(regular_season_df['starting_salary'], regular_season_df['OPS'])\n",
        "b.axes.set_title('correlation(상관관계) : ' + str(np.round(correlation,2)), fontsize = 20)\n",
        "b.set_xlabel(\"초봉\", fontsize = 12)\n",
        "b.set_ylabel(\"정규시즌 OPS\", fontsize = 12)\n"
      ],
      "execution_count": null,
      "outputs": [
        {
          "output_type": "stream",
          "text": [
            "/usr/local/lib/python3.7/dist-packages/seaborn/distributions.py:2557: FutureWarning: `distplot` is a deprecated function and will be removed in a future version. Please adapt your code to use either `displot` (a figure-level function with similar flexibility) or `histplot` (an axes-level function for histograms).\n",
            "  warnings.warn(msg, FutureWarning)\n",
            "/usr/local/lib/python3.7/dist-packages/seaborn/_decorators.py:43: FutureWarning: Pass the following variables as keyword args: x, y. From version 0.12, the only valid positional argument will be `data`, and passing other arguments without an explicit keyword will result in an error or misinterpretation.\n",
            "  FutureWarning\n"
          ],
          "name": "stderr"
        },
        {
          "output_type": "execute_result",
          "data": {
            "text/plain": [
              "Text(0, 0.5, '정규시즌 OPS')"
            ]
          },
          "metadata": {
            "tags": []
          },
          "execution_count": 39
        },
        {
          "output_type": "stream",
          "text": [
            "/usr/local/lib/python3.7/dist-packages/matplotlib/backends/backend_agg.py:214: RuntimeWarning: Glyph 52488 missing from current font.\n",
            "  font.set_text(s, 0.0, flags=flags)\n",
            "/usr/local/lib/python3.7/dist-packages/matplotlib/backends/backend_agg.py:214: RuntimeWarning: Glyph 48393 missing from current font.\n",
            "  font.set_text(s, 0.0, flags=flags)\n",
            "/usr/local/lib/python3.7/dist-packages/matplotlib/backends/backend_agg.py:214: RuntimeWarning: Glyph 51032 missing from current font.\n",
            "  font.set_text(s, 0.0, flags=flags)\n",
            "/usr/local/lib/python3.7/dist-packages/matplotlib/backends/backend_agg.py:214: RuntimeWarning: Glyph 48516 missing from current font.\n",
            "  font.set_text(s, 0.0, flags=flags)\n",
            "/usr/local/lib/python3.7/dist-packages/matplotlib/backends/backend_agg.py:214: RuntimeWarning: Glyph 54252 missing from current font.\n",
            "  font.set_text(s, 0.0, flags=flags)\n",
            "/usr/local/lib/python3.7/dist-packages/matplotlib/backends/backend_agg.py:183: RuntimeWarning: Glyph 52488 missing from current font.\n",
            "  font.set_text(s, 0, flags=flags)\n",
            "/usr/local/lib/python3.7/dist-packages/matplotlib/backends/backend_agg.py:183: RuntimeWarning: Glyph 48393 missing from current font.\n",
            "  font.set_text(s, 0, flags=flags)\n",
            "/usr/local/lib/python3.7/dist-packages/matplotlib/backends/backend_agg.py:183: RuntimeWarning: Glyph 51032 missing from current font.\n",
            "  font.set_text(s, 0, flags=flags)\n",
            "/usr/local/lib/python3.7/dist-packages/matplotlib/backends/backend_agg.py:183: RuntimeWarning: Glyph 48516 missing from current font.\n",
            "  font.set_text(s, 0, flags=flags)\n",
            "/usr/local/lib/python3.7/dist-packages/matplotlib/backends/backend_agg.py:183: RuntimeWarning: Glyph 54252 missing from current font.\n",
            "  font.set_text(s, 0, flags=flags)\n",
            "/usr/local/lib/python3.7/dist-packages/matplotlib/backends/backend_agg.py:214: RuntimeWarning: Glyph 49345 missing from current font.\n",
            "  font.set_text(s, 0.0, flags=flags)\n",
            "/usr/local/lib/python3.7/dist-packages/matplotlib/backends/backend_agg.py:214: RuntimeWarning: Glyph 44288 missing from current font.\n",
            "  font.set_text(s, 0.0, flags=flags)\n",
            "/usr/local/lib/python3.7/dist-packages/matplotlib/backends/backend_agg.py:214: RuntimeWarning: Glyph 44228 missing from current font.\n",
            "  font.set_text(s, 0.0, flags=flags)\n",
            "/usr/local/lib/python3.7/dist-packages/matplotlib/backends/backend_agg.py:214: RuntimeWarning: Glyph 51221 missing from current font.\n",
            "  font.set_text(s, 0.0, flags=flags)\n",
            "/usr/local/lib/python3.7/dist-packages/matplotlib/backends/backend_agg.py:214: RuntimeWarning: Glyph 44508 missing from current font.\n",
            "  font.set_text(s, 0.0, flags=flags)\n",
            "/usr/local/lib/python3.7/dist-packages/matplotlib/backends/backend_agg.py:214: RuntimeWarning: Glyph 49884 missing from current font.\n",
            "  font.set_text(s, 0.0, flags=flags)\n",
            "/usr/local/lib/python3.7/dist-packages/matplotlib/backends/backend_agg.py:214: RuntimeWarning: Glyph 51596 missing from current font.\n",
            "  font.set_text(s, 0.0, flags=flags)\n",
            "/usr/local/lib/python3.7/dist-packages/matplotlib/backends/backend_agg.py:183: RuntimeWarning: Glyph 51221 missing from current font.\n",
            "  font.set_text(s, 0, flags=flags)\n",
            "/usr/local/lib/python3.7/dist-packages/matplotlib/backends/backend_agg.py:183: RuntimeWarning: Glyph 44508 missing from current font.\n",
            "  font.set_text(s, 0, flags=flags)\n",
            "/usr/local/lib/python3.7/dist-packages/matplotlib/backends/backend_agg.py:183: RuntimeWarning: Glyph 49884 missing from current font.\n",
            "  font.set_text(s, 0, flags=flags)\n",
            "/usr/local/lib/python3.7/dist-packages/matplotlib/backends/backend_agg.py:183: RuntimeWarning: Glyph 51596 missing from current font.\n",
            "  font.set_text(s, 0, flags=flags)\n",
            "/usr/local/lib/python3.7/dist-packages/matplotlib/backends/backend_agg.py:183: RuntimeWarning: Glyph 49345 missing from current font.\n",
            "  font.set_text(s, 0, flags=flags)\n",
            "/usr/local/lib/python3.7/dist-packages/matplotlib/backends/backend_agg.py:183: RuntimeWarning: Glyph 44288 missing from current font.\n",
            "  font.set_text(s, 0, flags=flags)\n",
            "/usr/local/lib/python3.7/dist-packages/matplotlib/backends/backend_agg.py:183: RuntimeWarning: Glyph 44228 missing from current font.\n",
            "  font.set_text(s, 0, flags=flags)\n"
          ],
          "name": "stderr"
        },
        {
          "output_type": "display_data",
          "data": {
            "image/png": "[encoded data removed]",
            "text/plain": [
              "<Figure size 1080x360 with 2 Axes>"
            ]
          },
          "metadata": {
            "tags": [],
            "needs_background": "light"
          }
        }
      ]
    },
    {
      "cell_type": "markdown",
      "metadata": {
        "id": "f04DyrRRW-hT"
      },
      "source": [
        "현재 본 데이터들은 OPS와 연관이 있는 변수가 거의 없다.\n",
        "다른 접근법이 필요하다"
      ]
    },
    {
      "cell_type": "markdown",
      "metadata": {
        "id": "PV3tkTKbXLg3"
      },
      "source": [
        "## 일별 데이터 분석"
      ]
    },
    {
      "cell_type": "code",
      "metadata": {
        "id": "pgQAOMcIBMXF"
      },
      "source": [
        "day_by_day_df = pd.read_csv('/content/drive/MyDrive/Data_study/KBO_data/Regular_Season_Batter_Day_by_Day_b4.csv')"
      ],
      "execution_count": null,
      "outputs": []
    },
    {
      "cell_type": "code",
      "metadata": {
        "colab": {
          "base_uri": "https://localhost:8080/",
          "height": 242
        },
        "id": "vCvQgOZVXaxf",
        "outputId": "2e6a4219-7bc6-4de4-e6d5-b2f87a03737e"
      },
      "source": [
        "display(day_by_day_df.shape, day_by_day_df.head())"
      ],
      "execution_count": null,
      "outputs": [
        {
          "output_type": "display_data",
          "data": {
            "text/plain": [
              "(112273, 20)"
            ]
          },
          "metadata": {
            "tags": []
          }
        },
        {
          "output_type": "display_data",
          "data": {
            "text/html": [
              "<div>\n",
              "<style scoped>\n",
              "    .dataframe tbody tr th:only-of-type {\n",
              "        vertical-align: middle;\n",
              "    }\n",
              "\n",
              "    .dataframe tbody tr th {\n",
              "        vertical-align: top;\n",
              "    }\n",
              "\n",
              "    .dataframe thead th {\n",
              "        text-align: right;\n",
              "    }\n",
              "</style>\n",
              "<table border=\"1\" class=\"dataframe\">\n",
              "  <thead>\n",
              "    <tr style=\"text-align: right;\">\n",
              "      <th></th>\n",
              "      <th>batter_id</th>\n",
              "      <th>batter_name</th>\n",
              "      <th>date</th>\n",
              "      <th>opposing_team</th>\n",
              "      <th>avg1</th>\n",
              "      <th>AB</th>\n",
              "      <th>R</th>\n",
              "      <th>H</th>\n",
              "      <th>2B</th>\n",
              "      <th>3B</th>\n",
              "      <th>HR</th>\n",
              "      <th>RBI</th>\n",
              "      <th>SB</th>\n",
              "      <th>CS</th>\n",
              "      <th>BB</th>\n",
              "      <th>HBP</th>\n",
              "      <th>SO</th>\n",
              "      <th>GDP</th>\n",
              "      <th>avg2</th>\n",
              "      <th>year</th>\n",
              "    </tr>\n",
              "  </thead>\n",
              "  <tbody>\n",
              "    <tr>\n",
              "      <th>0</th>\n",
              "      <td>0</td>\n",
              "      <td>가르시아</td>\n",
              "      <td>3.24</td>\n",
              "      <td>NC</td>\n",
              "      <td>0.333</td>\n",
              "      <td>3</td>\n",
              "      <td>1</td>\n",
              "      <td>1</td>\n",
              "      <td>0</td>\n",
              "      <td>0</td>\n",
              "      <td>0</td>\n",
              "      <td>0</td>\n",
              "      <td>0</td>\n",
              "      <td>0</td>\n",
              "      <td>1</td>\n",
              "      <td>0</td>\n",
              "      <td>1</td>\n",
              "      <td>0</td>\n",
              "      <td>0.333</td>\n",
              "      <td>2018</td>\n",
              "    </tr>\n",
              "    <tr>\n",
              "      <th>1</th>\n",
              "      <td>0</td>\n",
              "      <td>가르시아</td>\n",
              "      <td>3.25</td>\n",
              "      <td>NC</td>\n",
              "      <td>0.000</td>\n",
              "      <td>4</td>\n",
              "      <td>0</td>\n",
              "      <td>0</td>\n",
              "      <td>0</td>\n",
              "      <td>0</td>\n",
              "      <td>0</td>\n",
              "      <td>0</td>\n",
              "      <td>0</td>\n",
              "      <td>0</td>\n",
              "      <td>0</td>\n",
              "      <td>0</td>\n",
              "      <td>1</td>\n",
              "      <td>0</td>\n",
              "      <td>0.143</td>\n",
              "      <td>2018</td>\n",
              "    </tr>\n",
              "    <tr>\n",
              "      <th>2</th>\n",
              "      <td>0</td>\n",
              "      <td>가르시아</td>\n",
              "      <td>3.27</td>\n",
              "      <td>넥센</td>\n",
              "      <td>0.200</td>\n",
              "      <td>5</td>\n",
              "      <td>0</td>\n",
              "      <td>1</td>\n",
              "      <td>0</td>\n",
              "      <td>0</td>\n",
              "      <td>0</td>\n",
              "      <td>0</td>\n",
              "      <td>0</td>\n",
              "      <td>0</td>\n",
              "      <td>0</td>\n",
              "      <td>0</td>\n",
              "      <td>0</td>\n",
              "      <td>0</td>\n",
              "      <td>0.167</td>\n",
              "      <td>2018</td>\n",
              "    </tr>\n",
              "    <tr>\n",
              "      <th>3</th>\n",
              "      <td>0</td>\n",
              "      <td>가르시아</td>\n",
              "      <td>3.28</td>\n",
              "      <td>넥센</td>\n",
              "      <td>0.200</td>\n",
              "      <td>5</td>\n",
              "      <td>1</td>\n",
              "      <td>1</td>\n",
              "      <td>0</td>\n",
              "      <td>0</td>\n",
              "      <td>0</td>\n",
              "      <td>1</td>\n",
              "      <td>0</td>\n",
              "      <td>0</td>\n",
              "      <td>0</td>\n",
              "      <td>0</td>\n",
              "      <td>0</td>\n",
              "      <td>0</td>\n",
              "      <td>0.176</td>\n",
              "      <td>2018</td>\n",
              "    </tr>\n",
              "    <tr>\n",
              "      <th>4</th>\n",
              "      <td>0</td>\n",
              "      <td>가르시아</td>\n",
              "      <td>3.29</td>\n",
              "      <td>넥센</td>\n",
              "      <td>0.250</td>\n",
              "      <td>4</td>\n",
              "      <td>0</td>\n",
              "      <td>1</td>\n",
              "      <td>0</td>\n",
              "      <td>0</td>\n",
              "      <td>0</td>\n",
              "      <td>3</td>\n",
              "      <td>0</td>\n",
              "      <td>0</td>\n",
              "      <td>0</td>\n",
              "      <td>0</td>\n",
              "      <td>0</td>\n",
              "      <td>1</td>\n",
              "      <td>0.190</td>\n",
              "      <td>2018</td>\n",
              "    </tr>\n",
              "  </tbody>\n",
              "</table>\n",
              "</div>"
            ],
            "text/plain": [
              "   batter_id batter_name  date opposing_team   avg1  ...  HBP  SO  GDP   avg2  year\n",
              "0          0        가르시아  3.24            NC  0.333  ...    0   1    0  0.333  2018\n",
              "1          0        가르시아  3.25            NC  0.000  ...    0   1    0  0.143  2018\n",
              "2          0        가르시아  3.27            넥센  0.200  ...    0   0    0  0.167  2018\n",
              "3          0        가르시아  3.28            넥센  0.200  ...    0   0    0  0.176  2018\n",
              "4          0        가르시아  3.29            넥센  0.250  ...    0   0    1  0.190  2018\n",
              "\n",
              "[5 rows x 20 columns]"
            ]
          },
          "metadata": {
            "tags": []
          }
        }
      ]
    },
    {
      "cell_type": "code",
      "metadata": {
        "id": "2yEZb5zVXguX"
      },
      "source": [
        "#date를 월과 일로 저장\n",
        "day_by_day_df['month'] = day_by_day_df['date'].apply(lambda x : str(x).split('.')[0])\n",
        "\n",
        "# 각 연도의 월별 평균 누적 타율(avg2) 계산\n",
        "# 연도에서 월별로 avg2 \n",
        "agg_df = day_by_day_df.groupby(['year','month'])['avg2'].mean().reset_index()\n",
        "\n",
        "# pivot_table을 이용해 데이터 변형\n",
        "agg_df = agg_df.pivot_table(index=['month'], columns = 'year', values = 'avg2')\n"
      ],
      "execution_count": null,
      "outputs": []
    },
    {
      "cell_type": "code",
      "metadata": {
        "colab": {
          "base_uri": "https://localhost:8080/",
          "height": 348
        },
        "id": "420EAMg3YtUQ",
        "outputId": "0ee017d5-6da5-4bb2-ae4f-5572bedc9745"
      },
      "source": [
        "agg_df"
      ],
      "execution_count": null,
      "outputs": [
        {
          "output_type": "execute_result",
          "data": {
            "text/html": [
              "<div>\n",
              "<style scoped>\n",
              "    .dataframe tbody tr th:only-of-type {\n",
              "        vertical-align: middle;\n",
              "    }\n",
              "\n",
              "    .dataframe tbody tr th {\n",
              "        vertical-align: top;\n",
              "    }\n",
              "\n",
              "    .dataframe thead th {\n",
              "        text-align: right;\n",
              "    }\n",
              "</style>\n",
              "<table border=\"1\" class=\"dataframe\">\n",
              "  <thead>\n",
              "    <tr style=\"text-align: right;\">\n",
              "      <th>year</th>\n",
              "      <th>2001</th>\n",
              "      <th>2002</th>\n",
              "      <th>2003</th>\n",
              "      <th>2004</th>\n",
              "      <th>2005</th>\n",
              "      <th>2006</th>\n",
              "      <th>2007</th>\n",
              "      <th>2008</th>\n",
              "      <th>2009</th>\n",
              "      <th>2010</th>\n",
              "      <th>2011</th>\n",
              "      <th>2012</th>\n",
              "      <th>2013</th>\n",
              "      <th>2014</th>\n",
              "      <th>2015</th>\n",
              "      <th>2016</th>\n",
              "      <th>2017</th>\n",
              "      <th>2018</th>\n",
              "    </tr>\n",
              "    <tr>\n",
              "      <th>month</th>\n",
              "      <th></th>\n",
              "      <th></th>\n",
              "      <th></th>\n",
              "      <th></th>\n",
              "      <th></th>\n",
              "      <th></th>\n",
              "      <th></th>\n",
              "      <th></th>\n",
              "      <th></th>\n",
              "      <th></th>\n",
              "      <th></th>\n",
              "      <th></th>\n",
              "      <th></th>\n",
              "      <th></th>\n",
              "      <th></th>\n",
              "      <th></th>\n",
              "      <th></th>\n",
              "      <th></th>\n",
              "    </tr>\n",
              "  </thead>\n",
              "  <tbody>\n",
              "    <tr>\n",
              "      <th>10</th>\n",
              "      <td>0.356400</td>\n",
              "      <td>0.269065</td>\n",
              "      <td>0.216583</td>\n",
              "      <td>0.203636</td>\n",
              "      <td>NaN</td>\n",
              "      <td>0.260985</td>\n",
              "      <td>0.249888</td>\n",
              "      <td>0.249638</td>\n",
              "      <td>0.033333</td>\n",
              "      <td>NaN</td>\n",
              "      <td>0.243526</td>\n",
              "      <td>0.246949</td>\n",
              "      <td>0.257841</td>\n",
              "      <td>0.273537</td>\n",
              "      <td>0.274042</td>\n",
              "      <td>0.282547</td>\n",
              "      <td>0.280289</td>\n",
              "      <td>0.277482</td>\n",
              "    </tr>\n",
              "    <tr>\n",
              "      <th>3</th>\n",
              "      <td>NaN</td>\n",
              "      <td>NaN</td>\n",
              "      <td>NaN</td>\n",
              "      <td>NaN</td>\n",
              "      <td>NaN</td>\n",
              "      <td>0.261714</td>\n",
              "      <td>0.261714</td>\n",
              "      <td>0.271982</td>\n",
              "      <td>NaN</td>\n",
              "      <td>0.239861</td>\n",
              "      <td>NaN</td>\n",
              "      <td>NaN</td>\n",
              "      <td>0.231236</td>\n",
              "      <td>0.210598</td>\n",
              "      <td>0.214485</td>\n",
              "      <td>0.257857</td>\n",
              "      <td>0.161979</td>\n",
              "      <td>0.238015</td>\n",
              "    </tr>\n",
              "    <tr>\n",
              "      <th>4</th>\n",
              "      <td>0.205217</td>\n",
              "      <td>0.319792</td>\n",
              "      <td>0.250296</td>\n",
              "      <td>0.259663</td>\n",
              "      <td>0.235317</td>\n",
              "      <td>0.267106</td>\n",
              "      <td>0.215703</td>\n",
              "      <td>0.261531</td>\n",
              "      <td>0.252546</td>\n",
              "      <td>0.262953</td>\n",
              "      <td>0.247133</td>\n",
              "      <td>0.234199</td>\n",
              "      <td>0.267994</td>\n",
              "      <td>0.259918</td>\n",
              "      <td>0.255175</td>\n",
              "      <td>0.266711</td>\n",
              "      <td>0.259430</td>\n",
              "      <td>0.263953</td>\n",
              "    </tr>\n",
              "    <tr>\n",
              "      <th>5</th>\n",
              "      <td>0.297157</td>\n",
              "      <td>0.267990</td>\n",
              "      <td>0.241491</td>\n",
              "      <td>0.237954</td>\n",
              "      <td>0.253527</td>\n",
              "      <td>0.264283</td>\n",
              "      <td>0.237329</td>\n",
              "      <td>0.262535</td>\n",
              "      <td>0.280842</td>\n",
              "      <td>0.272934</td>\n",
              "      <td>0.250877</td>\n",
              "      <td>0.247844</td>\n",
              "      <td>0.268355</td>\n",
              "      <td>0.273899</td>\n",
              "      <td>0.261307</td>\n",
              "      <td>0.275240</td>\n",
              "      <td>0.274374</td>\n",
              "      <td>0.274083</td>\n",
              "    </tr>\n",
              "    <tr>\n",
              "      <th>6</th>\n",
              "      <td>0.306926</td>\n",
              "      <td>0.275867</td>\n",
              "      <td>0.252290</td>\n",
              "      <td>0.248800</td>\n",
              "      <td>0.249913</td>\n",
              "      <td>0.264392</td>\n",
              "      <td>0.260600</td>\n",
              "      <td>0.270766</td>\n",
              "      <td>0.278781</td>\n",
              "      <td>0.274791</td>\n",
              "      <td>0.263264</td>\n",
              "      <td>0.254577</td>\n",
              "      <td>0.270533</td>\n",
              "      <td>0.283480</td>\n",
              "      <td>0.268999</td>\n",
              "      <td>0.276307</td>\n",
              "      <td>0.279060</td>\n",
              "      <td>0.280630</td>\n",
              "    </tr>\n",
              "    <tr>\n",
              "      <th>7</th>\n",
              "      <td>0.293171</td>\n",
              "      <td>0.266650</td>\n",
              "      <td>0.244230</td>\n",
              "      <td>0.251973</td>\n",
              "      <td>0.256396</td>\n",
              "      <td>0.262464</td>\n",
              "      <td>0.259171</td>\n",
              "      <td>0.264870</td>\n",
              "      <td>0.275054</td>\n",
              "      <td>0.265501</td>\n",
              "      <td>0.264829</td>\n",
              "      <td>0.261513</td>\n",
              "      <td>0.262812</td>\n",
              "      <td>0.275677</td>\n",
              "      <td>0.272685</td>\n",
              "      <td>0.283192</td>\n",
              "      <td>0.284565</td>\n",
              "      <td>0.280817</td>\n",
              "    </tr>\n",
              "    <tr>\n",
              "      <th>8</th>\n",
              "      <td>0.303489</td>\n",
              "      <td>0.270481</td>\n",
              "      <td>0.252319</td>\n",
              "      <td>0.249460</td>\n",
              "      <td>0.243570</td>\n",
              "      <td>0.265369</td>\n",
              "      <td>0.270258</td>\n",
              "      <td>0.265173</td>\n",
              "      <td>0.271796</td>\n",
              "      <td>0.271075</td>\n",
              "      <td>0.262048</td>\n",
              "      <td>0.258069</td>\n",
              "      <td>0.268122</td>\n",
              "      <td>0.282025</td>\n",
              "      <td>0.272377</td>\n",
              "      <td>0.283105</td>\n",
              "      <td>0.283283</td>\n",
              "      <td>0.283923</td>\n",
              "    </tr>\n",
              "    <tr>\n",
              "      <th>9</th>\n",
              "      <td>0.308636</td>\n",
              "      <td>0.248333</td>\n",
              "      <td>0.243780</td>\n",
              "      <td>0.203953</td>\n",
              "      <td>0.237058</td>\n",
              "      <td>0.258794</td>\n",
              "      <td>0.251022</td>\n",
              "      <td>0.252942</td>\n",
              "      <td>0.264468</td>\n",
              "      <td>0.265312</td>\n",
              "      <td>0.258500</td>\n",
              "      <td>0.251232</td>\n",
              "      <td>0.260571</td>\n",
              "      <td>0.272411</td>\n",
              "      <td>0.271629</td>\n",
              "      <td>0.276513</td>\n",
              "      <td>0.273213</td>\n",
              "      <td>0.277841</td>\n",
              "    </tr>\n",
              "  </tbody>\n",
              "</table>\n",
              "</div>"
            ],
            "text/plain": [
              "year       2001      2002      2003  ...      2016      2017      2018\n",
              "month                                ...                              \n",
              "10     0.356400  0.269065  0.216583  ...  0.282547  0.280289  0.277482\n",
              "3           NaN       NaN       NaN  ...  0.257857  0.161979  0.238015\n",
              "4      0.205217  0.319792  0.250296  ...  0.266711  0.259430  0.263953\n",
              "5      0.297157  0.267990  0.241491  ...  0.275240  0.274374  0.274083\n",
              "6      0.306926  0.275867  0.252290  ...  0.276307  0.279060  0.280630\n",
              "7      0.293171  0.266650  0.244230  ...  0.283192  0.284565  0.280817\n",
              "8      0.303489  0.270481  0.252319  ...  0.283105  0.283283  0.283923\n",
              "9      0.308636  0.248333  0.243780  ...  0.276513  0.273213  0.277841\n",
              "\n",
              "[8 rows x 18 columns]"
            ]
          },
          "metadata": {
            "tags": []
          },
          "execution_count": 51
        }
      ]
    },
    {
      "cell_type": "code",
      "metadata": {
        "colab": {
          "base_uri": "https://localhost:8080/",
          "height": 1000
        },
        "id": "4P_el_ihYuIc",
        "outputId": "6453f29a-8a86-4a4d-a033-32b4f94d8cc3"
      },
      "source": [
        "# 최근 연도, 결측치 제거\n",
        "display(agg_df.iloc[2:,10:])\n",
        "\n",
        "plt.plot(agg_df.iloc[2:,10:]) # 2011년 ~ 2018년 데이터만 이용\n",
        "plt.legend(agg_df.iloc[2:,10:].columns, loc = 'center left', bbox_to_anchor = (1,0.5)) # 범례 그래프 밖에 위치\n",
        "plt.title('연도별 평균 타율')\n"
      ],
      "execution_count": null,
      "outputs": [
        {
          "output_type": "display_data",
          "data": {
            "text/html": [
              "<div>\n",
              "<style scoped>\n",
              "    .dataframe tbody tr th:only-of-type {\n",
              "        vertical-align: middle;\n",
              "    }\n",
              "\n",
              "    .dataframe tbody tr th {\n",
              "        vertical-align: top;\n",
              "    }\n",
              "\n",
              "    .dataframe thead th {\n",
              "        text-align: right;\n",
              "    }\n",
              "</style>\n",
              "<table border=\"1\" class=\"dataframe\">\n",
              "  <thead>\n",
              "    <tr style=\"text-align: right;\">\n",
              "      <th>year</th>\n",
              "      <th>2011</th>\n",
              "      <th>2012</th>\n",
              "      <th>2013</th>\n",
              "      <th>2014</th>\n",
              "      <th>2015</th>\n",
              "      <th>2016</th>\n",
              "      <th>2017</th>\n",
              "      <th>2018</th>\n",
              "    </tr>\n",
              "    <tr>\n",
              "      <th>month</th>\n",
              "      <th></th>\n",
              "      <th></th>\n",
              "      <th></th>\n",
              "      <th></th>\n",
              "      <th></th>\n",
              "      <th></th>\n",
              "      <th></th>\n",
              "      <th></th>\n",
              "    </tr>\n",
              "  </thead>\n",
              "  <tbody>\n",
              "    <tr>\n",
              "      <th>4</th>\n",
              "      <td>0.247133</td>\n",
              "      <td>0.234199</td>\n",
              "      <td>0.267994</td>\n",
              "      <td>0.259918</td>\n",
              "      <td>0.255175</td>\n",
              "      <td>0.266711</td>\n",
              "      <td>0.259430</td>\n",
              "      <td>0.263953</td>\n",
              "    </tr>\n",
              "    <tr>\n",
              "      <th>5</th>\n",
              "      <td>0.250877</td>\n",
              "      <td>0.247844</td>\n",
              "      <td>0.268355</td>\n",
              "      <td>0.273899</td>\n",
              "      <td>0.261307</td>\n",
              "      <td>0.275240</td>\n",
              "      <td>0.274374</td>\n",
              "      <td>0.274083</td>\n",
              "    </tr>\n",
              "    <tr>\n",
              "      <th>6</th>\n",
              "      <td>0.263264</td>\n",
              "      <td>0.254577</td>\n",
              "      <td>0.270533</td>\n",
              "      <td>0.283480</td>\n",
              "      <td>0.268999</td>\n",
              "      <td>0.276307</td>\n",
              "      <td>0.279060</td>\n",
              "      <td>0.280630</td>\n",
              "    </tr>\n",
              "    <tr>\n",
              "      <th>7</th>\n",
              "      <td>0.264829</td>\n",
              "      <td>0.261513</td>\n",
              "      <td>0.262812</td>\n",
              "      <td>0.275677</td>\n",
              "      <td>0.272685</td>\n",
              "      <td>0.283192</td>\n",
              "      <td>0.284565</td>\n",
              "      <td>0.280817</td>\n",
              "    </tr>\n",
              "    <tr>\n",
              "      <th>8</th>\n",
              "      <td>0.262048</td>\n",
              "      <td>0.258069</td>\n",
              "      <td>0.268122</td>\n",
              "      <td>0.282025</td>\n",
              "      <td>0.272377</td>\n",
              "      <td>0.283105</td>\n",
              "      <td>0.283283</td>\n",
              "      <td>0.283923</td>\n",
              "    </tr>\n",
              "    <tr>\n",
              "      <th>9</th>\n",
              "      <td>0.258500</td>\n",
              "      <td>0.251232</td>\n",
              "      <td>0.260571</td>\n",
              "      <td>0.272411</td>\n",
              "      <td>0.271629</td>\n",
              "      <td>0.276513</td>\n",
              "      <td>0.273213</td>\n",
              "      <td>0.277841</td>\n",
              "    </tr>\n",
              "  </tbody>\n",
              "</table>\n",
              "</div>"
            ],
            "text/plain": [
              "year       2011      2012      2013  ...      2016      2017      2018\n",
              "month                                ...                              \n",
              "4      0.247133  0.234199  0.267994  ...  0.266711  0.259430  0.263953\n",
              "5      0.250877  0.247844  0.268355  ...  0.275240  0.274374  0.274083\n",
              "6      0.263264  0.254577  0.270533  ...  0.276307  0.279060  0.280630\n",
              "7      0.264829  0.261513  0.262812  ...  0.283192  0.284565  0.280817\n",
              "8      0.262048  0.258069  0.268122  ...  0.283105  0.283283  0.283923\n",
              "9      0.258500  0.251232  0.260571  ...  0.276513  0.273213  0.277841\n",
              "\n",
              "[6 rows x 8 columns]"
            ]
          },
          "metadata": {
            "tags": []
          }
        },
        {
          "output_type": "execute_result",
          "data": {
            "text/plain": [
              "Text(0.5, 1.0, '연도별 평균 타율')"
            ]
          },
          "metadata": {
            "tags": []
          },
          "execution_count": 57
        },
        {
          "output_type": "stream",
          "text": [
            "/usr/local/lib/python3.7/dist-packages/matplotlib/backends/backend_agg.py:214: RuntimeWarning: Glyph 50672 missing from current font.\n",
            "  font.set_text(s, 0.0, flags=flags)\n",
            "/usr/local/lib/python3.7/dist-packages/matplotlib/backends/backend_agg.py:214: RuntimeWarning: Glyph 46020 missing from current font.\n",
            "  font.set_text(s, 0.0, flags=flags)\n",
            "/usr/local/lib/python3.7/dist-packages/matplotlib/backends/backend_agg.py:214: RuntimeWarning: Glyph 48324 missing from current font.\n",
            "  font.set_text(s, 0.0, flags=flags)\n",
            "/usr/local/lib/python3.7/dist-packages/matplotlib/backends/backend_agg.py:214: RuntimeWarning: Glyph 54217 missing from current font.\n",
            "  font.set_text(s, 0.0, flags=flags)\n",
            "/usr/local/lib/python3.7/dist-packages/matplotlib/backends/backend_agg.py:214: RuntimeWarning: Glyph 44512 missing from current font.\n",
            "  font.set_text(s, 0.0, flags=flags)\n",
            "/usr/local/lib/python3.7/dist-packages/matplotlib/backends/backend_agg.py:214: RuntimeWarning: Glyph 53440 missing from current font.\n",
            "  font.set_text(s, 0.0, flags=flags)\n",
            "/usr/local/lib/python3.7/dist-packages/matplotlib/backends/backend_agg.py:214: RuntimeWarning: Glyph 50984 missing from current font.\n",
            "  font.set_text(s, 0.0, flags=flags)\n",
            "/usr/local/lib/python3.7/dist-packages/matplotlib/backends/backend_agg.py:183: RuntimeWarning: Glyph 50672 missing from current font.\n",
            "  font.set_text(s, 0, flags=flags)\n",
            "/usr/local/lib/python3.7/dist-packages/matplotlib/backends/backend_agg.py:183: RuntimeWarning: Glyph 46020 missing from current font.\n",
            "  font.set_text(s, 0, flags=flags)\n",
            "/usr/local/lib/python3.7/dist-packages/matplotlib/backends/backend_agg.py:183: RuntimeWarning: Glyph 48324 missing from current font.\n",
            "  font.set_text(s, 0, flags=flags)\n",
            "/usr/local/lib/python3.7/dist-packages/matplotlib/backends/backend_agg.py:183: RuntimeWarning: Glyph 54217 missing from current font.\n",
            "  font.set_text(s, 0, flags=flags)\n",
            "/usr/local/lib/python3.7/dist-packages/matplotlib/backends/backend_agg.py:183: RuntimeWarning: Glyph 44512 missing from current font.\n",
            "  font.set_text(s, 0, flags=flags)\n",
            "/usr/local/lib/python3.7/dist-packages/matplotlib/backends/backend_agg.py:183: RuntimeWarning: Glyph 53440 missing from current font.\n",
            "  font.set_text(s, 0, flags=flags)\n",
            "/usr/local/lib/python3.7/dist-packages/matplotlib/backends/backend_agg.py:183: RuntimeWarning: Glyph 50984 missing from current font.\n",
            "  font.set_text(s, 0, flags=flags)\n"
          ],
          "name": "stderr"
        },
        {
          "output_type": "display_data",
          "data": {
            "image/png": "[encoded data removed]",
            "text/plain": [
              "<Figure size 432x288 with 1 Axes>"
            ]
          },
          "metadata": {
            "tags": [],
            "needs_background": "light"
          }
        }
      ]
    },
    {
      "cell_type": "code",
      "metadata": {
        "id": "UeR7swyMiWsb"
      },
      "source": [
        ""
      ],
      "execution_count": null,
      "outputs": []
    }
  ]
}